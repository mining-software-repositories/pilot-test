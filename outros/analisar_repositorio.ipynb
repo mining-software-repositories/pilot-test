{
 "cells": [
  {
   "cell_type": "code",
   "execution_count": 15,
   "metadata": {},
   "outputs": [],
   "source": [
    "import entities\n",
    "import utils\n",
    "import specials\n",
    "\n",
    "my_commit = 'd0fe717eef87dd036c39a106004f59ba79e6c342'\n",
    "url_repositorio_git = 'https://github.com/armandossrecife/syspromocity.git'\n",
    "repositorio_git_local = '/Users/armandosoaressousa/git/syspromocity'"
   ]
  },
  {
   "cell_type": "markdown",
   "metadata": {},
   "source": [
    "## 1. Lista os commits de um repositório"
   ]
  },
  {
   "cell_type": "code",
   "execution_count": 16,
   "metadata": {},
   "outputs": [
    {
     "name": "stdout",
     "output_type": "stream",
     "text": [
      "d0fe717eef87dd036c39a106004f59ba79e6c342\n",
      "0c6a0a2ace24f6e9e0340e866fe657881ec61b7e\n",
      "c89438116f7d2a9a6c7e9ece2ba5500d116b827a\n",
      "ea5ca0a8612b19ff3eb652bb836b976c35a51d77\n",
      "e493e5804d177c4ff08e167073614d76059ebb39\n"
     ]
    }
   ],
   "source": [
    "lista2_local = utils.list_commits_hash_from_repository(repositorio_git_local)\n",
    "\n",
    "i = 0\n",
    "for each in lista2_local: \n",
    "    if i < 5:\n",
    "        print(each)\n",
    "        i += 1"
   ]
  },
  {
   "cell_type": "code",
   "execution_count": 17,
   "metadata": {},
   "outputs": [
    {
     "name": "stdout",
     "output_type": "stream",
     "text": [
      "<pydriller.domain.commit.Commit object at 0x1128ffb70>\n",
      "<pydriller.domain.commit.Commit object at 0x1128ff358>\n",
      "<pydriller.domain.commit.Commit object at 0x1128ff240>\n",
      "<pydriller.domain.commit.Commit object at 0x1128ff898>\n",
      "<pydriller.domain.commit.Commit object at 0x1128ff668>\n"
     ]
    }
   ],
   "source": [
    "lista3_local = utils.list_commits_from_repository(repositorio_git_local)\n",
    "\n",
    "i = 0\n",
    "for each in lista3_local: \n",
    "    if i < 5:\n",
    "        print(each)\n",
    "        i += 1"
   ]
  },
  {
   "cell_type": "markdown",
   "metadata": {},
   "source": [
    "## 2. Dado um commit, mostra os arquivos modificados no commit"
   ]
  },
  {
   "cell_type": "code",
   "execution_count": 20,
   "metadata": {},
   "outputs": [
    {
     "name": "stdout",
     "output_type": "stream",
     "text": [
      "1 - Name: pom.xml, old_path: pom.xml, new_path: pom.xml change_type: MODIFY, Lines added: 2, Lines deleted: 2, Modifications: 4,  Number of lines: None, Complexity: None\n",
      "2 - Name: Store.java, old_path: src/main/java/br/ufc/great/syspromocity/model/Store.java, new_path: src/main/java/br/ufc/great/syspromocity/model/Store.java change_type: MODIFY, Lines added: 18, Lines deleted: 0, Modifications: 18,  Number of lines: 96, Complexity: 24\n",
      "3 - Name: LocationStore.java, old_path: src/main/java/br/ufc/great/syspromocity/util/LocationStore.java, new_path: src/main/java/br/ufc/great/syspromocity/util/LocationStore.java change_type: MODIFY, Lines added: 20, Lines deleted: 0, Modifications: 20,  Number of lines: 88, Complexity: 22\n",
      "4 - Name: mapa.js, old_path: src/main/resources/static/dist/js/mapa.js, new_path: src/main/resources/static/dist/js/mapa.js change_type: MODIFY, Lines added: 24, Lines deleted: 2, Modifications: 26,  Number of lines: 74, Complexity: 8\n",
      "5 - Name: mapsStores.json, old_path: src/main/resources/static/dist/js/mapsStores.json, new_path: src/main/resources/static/dist/js/mapsStores.json change_type: MODIFY, Lines added: 31, Lines deleted: 11, Modifications: 42,  Number of lines: None, Complexity: None\n",
      "6 - Name: indexStoreOwner.html, old_path: src/main/resources/templates/dashboard/indexStoreOwner.html, new_path: src/main/resources/templates/dashboard/indexStoreOwner.html change_type: MODIFY, Lines added: 1, Lines deleted: 1, Modifications: 2,  Number of lines: None, Complexity: None\n",
      "7 - Name: indexUser.html, old_path: src/main/resources/templates/dashboard/indexUser.html, new_path: src/main/resources/templates/dashboard/indexUser.html change_type: MODIFY, Lines added: 1, Lines deleted: 1, Modifications: 2,  Number of lines: None, Complexity: None\n"
     ]
    }
   ],
   "source": [
    "i = 1\n",
    "for m in utils.list_modified_files_from_commit('c58cc0e6a8bb9355745b4fd5cc7accf3a56b4668', repositorio_git_local):\n",
    "    mf = entities.MyModifiedFile(m)\n",
    "    print(f\"{i} - Name: {mf.get_filename()}, old_path: {mf.get_old_path()}, new_path: {mf.get_new_path()} change_type: {mf.get_change_type()}, Lines added: {mf.get_added_lines()}, \\\n",
    "Lines deleted: {mf.get_deleted_lines()}, Modifications: {mf.get_modifications()},  Number of lines: {mf.get_nloc()}, Complexity: {mf.get_complexity()}\")\n",
    "    i += 1"
   ]
  },
  {
   "cell_type": "markdown",
   "metadata": {},
   "source": [
    "## 3. Lista de commits entre duas tags"
   ]
  },
  {
   "cell_type": "code",
   "execution_count": 32,
   "metadata": {},
   "outputs": [
    {
     "name": "stdout",
     "output_type": "stream",
     "text": [
      "[<pydriller.domain.commit.Commit object at 0x10ef646d8>, <pydriller.domain.commit.Commit object at 0x10ef640f0>, <pydriller.domain.commit.Commit object at 0x10ef642e8>, <pydriller.domain.commit.Commit object at 0x10ef64a58>, <pydriller.domain.commit.Commit object at 0x10ef64208>, <pydriller.domain.commit.Commit object at 0x10ef64518>, <pydriller.domain.commit.Commit object at 0x10ef64358>, <pydriller.domain.commit.Commit object at 0x10ef64be0>, <pydriller.domain.commit.Commit object at 0x10ec826a0>, <pydriller.domain.commit.Commit object at 0x10ec82278>, <pydriller.domain.commit.Commit object at 0x10ec825f8>, <pydriller.domain.commit.Commit object at 0x10ec82390>, <pydriller.domain.commit.Commit object at 0x10ec82828>]\n"
     ]
    }
   ],
   "source": [
    "lista_commits_entre_tags = utils.list_commits_between_tags(from_tag='syspromocity-v1.0.0', to_tag='syspromocity-v1.2.1', my_repository=repositorio_git_local) \n",
    "print(lista_commits_entre_tags)"
   ]
  },
  {
   "cell_type": "code",
   "execution_count": 33,
   "metadata": {},
   "outputs": [
    {
     "name": "stdout",
     "output_type": "stream",
     "text": [
      " 13 commits\n",
      "383b3e3466dd075909d2e0079b5722ba833c913d\n",
      "2c089e5309fa70e059669b27894586314bc4adc9\n",
      "0077b275cb7cdd927bf59b8fa8b35fceaf1947a0\n",
      "b03ce2636eb5b2bf5ca4e3398448231ba059cfd3\n",
      "f894e1c01279bc7571ec5ec05eaeaf59c186f991\n",
      "71fe6c262576662964fae85c55140b4642d629aa\n",
      "ab2b304ddfa6a605af1d683d394c3488333c858d\n",
      "591244cea9b763db7a9977127c572d0bb3e3a8bb\n",
      "bb71734ac1c6dcf07b06f1c6f4bcfe890d771a95\n",
      "b8c3a7ea7be6b8c88407ab75a25b86163ad04abd\n",
      "fc0998d367aea7219a4791fcbcc5155b125b456e\n",
      "ed1ceae8bf1789a30fc98fbfa24c2f2c8da1bf64\n",
      "c58cc0e6a8bb9355745b4fd5cc7accf3a56b4668\n"
     ]
    }
   ],
   "source": [
    "print(f' {len(lista_commits_entre_tags)} commits')\n",
    "\n",
    "for each in lista_commits_entre_tags:\n",
    "    print(each.hash)"
   ]
  },
  {
   "cell_type": "markdown",
   "metadata": {},
   "source": [
    "## 4 Para cada commit entre as tags comparadas mostre os arquivos modificados"
   ]
  },
  {
   "cell_type": "markdown",
   "metadata": {},
   "source": [
    "### Mostra todos os arquivos modificados entre as tags"
   ]
  },
  {
   "cell_type": "code",
   "execution_count": 34,
   "metadata": {},
   "outputs": [
    {
     "name": "stdout",
     "output_type": "stream",
     "text": [
      "383b3e3466dd075909d2e0079b5722ba833c913d\n",
      "2c089e5309fa70e059669b27894586314bc4adc9\n",
      "35 - Name: security.sql, change_type: MODIFY, Modifications: 8,  Number of lines: None, Complexity: None\n",
      "0077b275cb7cdd927bf59b8fa8b35fceaf1947a0\n",
      "36 - Name: autorities.sql, change_type: DELETE, Modifications: 15,  Number of lines: None, Complexity: None\n",
      "b03ce2636eb5b2bf5ca4e3398448231ba059cfd3\n",
      "37 - Name: README.md, change_type: MODIFY, Modifications: 1,  Number of lines: None, Complexity: None\n",
      "f894e1c01279bc7571ec5ec05eaeaf59c186f991\n",
      "38 - Name: UserController.java, change_type: MODIFY, Modifications: 6,  Number of lines: 299, Complexity: 35\n",
      "71fe6c262576662964fae85c55140b4642d629aa\n",
      "39 - Name: Coupon.java, change_type: MODIFY, Modifications: 20,  Number of lines: 66, Complexity: 15\n",
      "40 - Name: Users.java, change_type: MODIFY, Modifications: 4,  Number of lines: 139, Complexity: 32\n",
      "ab2b304ddfa6a605af1d683d394c3488333c858d\n",
      "41 - Name: Coupon.java, change_type: MODIFY, Modifications: 63,  Number of lines: 105, Complexity: 26\n",
      "42 - Name: all.html, change_type: MODIFY, Modifications: 2,  Number of lines: None, Complexity: None\n",
      "43 - Name: listCoupons.html, change_type: MODIFY, Modifications: 2,  Number of lines: None, Complexity: None\n",
      "44 - Name: listCoupons.html, change_type: MODIFY, Modifications: 2,  Number of lines: None, Complexity: None\n",
      "591244cea9b763db7a9977127c572d0bb3e3a8bb\n",
      "45 - Name: form.html, change_type: MODIFY, Modifications: 38,  Number of lines: None, Complexity: None\n",
      "46 - Name: list.html, change_type: MODIFY, Modifications: 6,  Number of lines: None, Complexity: None\n",
      "bb71734ac1c6dcf07b06f1c6f4bcfe890d771a95\n",
      "47 - Name: 10.png, change_type: ADD, Modifications: 0,  Number of lines: None, Complexity: None\n",
      "48 - Name: 7.png, change_type: ADD, Modifications: 0,  Number of lines: None, Complexity: None\n",
      "49 - Name: 8.png, change_type: ADD, Modifications: 0,  Number of lines: None, Complexity: None\n",
      "50 - Name: 9.png, change_type: ADD, Modifications: 0,  Number of lines: None, Complexity: None\n",
      "51 - Name: Coupon.java, change_type: MODIFY, Modifications: 6,  Number of lines: 108, Complexity: 26\n",
      "52 - Name: Users.java, change_type: MODIFY, Modifications: 34,  Number of lines: 154, Complexity: 36\n",
      "b8c3a7ea7be6b8c88407ab75a25b86163ad04abd\n",
      "53 - Name: Tela 1 - Login.png, change_type: ADD, Modifications: 0,  Number of lines: None, Complexity: None\n",
      "54 - Name: Tela 10 - Usuario Lojista.png, change_type: ADD, Modifications: 0,  Number of lines: None, Complexity: None\n",
      "55 - Name: Tela 11 - Lojista cadastra sua loja.png, change_type: ADD, Modifications: 0,  Number of lines: None, Complexity: None\n",
      "56 - Name: Tela 12 - Lojista cadastra promocao.png, change_type: ADD, Modifications: 0,  Number of lines: None, Complexity: None\n",
      "57 - Name: Tela 13 - Lojista edita um cupom ja cadastrado.png, change_type: ADD, Modifications: 0,  Number of lines: None, Complexity: None\n",
      "58 - Name: Tela 14 - Usuario comum.png, change_type: ADD, Modifications: 0,  Number of lines: None, Complexity: None\n",
      "59 - Name: Tela 2 - Autoregistro.png, change_type: ADD, Modifications: 0,  Number of lines: None, Complexity: None\n",
      "60 - Name: Tela 3 - Admin.png, change_type: ADD, Modifications: 0,  Number of lines: None, Complexity: None\n",
      "61 - Name: Tela 4 - Admin Lojas.png, change_type: ADD, Modifications: 0,  Number of lines: None, Complexity: None\n",
      "62 - Name: Tela 5 - Admin Cupons.png, change_type: ADD, Modifications: 0,  Number of lines: None, Complexity: None\n",
      "63 - Name: Tela 6 - Admin profile.png, change_type: ADD, Modifications: 0,  Number of lines: None, Complexity: None\n",
      "64 - Name: Tela 7 - Meus Cupons.png, change_type: ADD, Modifications: 0,  Number of lines: None, Complexity: None\n",
      "65 - Name: Tela 8 - Usuarios disponiveis.png, change_type: ADD, Modifications: 0,  Number of lines: None, Complexity: None\n",
      "66 - Name: Tela 9 - Meus amigos.png, change_type: ADD, Modifications: 0,  Number of lines: None, Complexity: None\n",
      "fc0998d367aea7219a4791fcbcc5155b125b456e\n",
      "67 - Name: pom.xml, change_type: MODIFY, Modifications: 4,  Number of lines: None, Complexity: None\n",
      "68 - Name: StoreController.java, change_type: MODIFY, Modifications: 25,  Number of lines: 321, Complexity: 39\n",
      "69 - Name: LocationStore.java, change_type: ADD, Modifications: 79,  Number of lines: 72, Complexity: 18\n",
      "70 - Name: mapa.js, change_type: MODIFY, Modifications: 13,  Number of lines: 55, Complexity: 8\n",
      "71 - Name: index.html, change_type: MODIFY, Modifications: 2,  Number of lines: None, Complexity: None\n",
      "ed1ceae8bf1789a30fc98fbfa24c2f2c8da1bf64\n",
      "72 - Name: login.html, change_type: MODIFY, Modifications: 4,  Number of lines: None, Complexity: None\n",
      "c58cc0e6a8bb9355745b4fd5cc7accf3a56b4668\n",
      "73 - Name: pom.xml, change_type: MODIFY, Modifications: 4,  Number of lines: None, Complexity: None\n",
      "74 - Name: Store.java, change_type: MODIFY, Modifications: 18,  Number of lines: 96, Complexity: 24\n",
      "75 - Name: LocationStore.java, change_type: MODIFY, Modifications: 20,  Number of lines: 88, Complexity: 22\n",
      "76 - Name: mapa.js, change_type: MODIFY, Modifications: 26,  Number of lines: 74, Complexity: 8\n",
      "77 - Name: mapsStores.json, change_type: MODIFY, Modifications: 42,  Number of lines: None, Complexity: None\n",
      "78 - Name: indexStoreOwner.html, change_type: MODIFY, Modifications: 2,  Number of lines: None, Complexity: None\n",
      "79 - Name: indexUser.html, change_type: MODIFY, Modifications: 2,  Number of lines: None, Complexity: None\n"
     ]
    }
   ],
   "source": [
    "for each in lista_commits_entre_tags:\n",
    "    print(each.hash)\n",
    "    for m in utils.list_modified_files_from_commit(each.hash, repositorio_git_local):\n",
    "        mf = entities.MyModifiedFile(m)\n",
    "        print(f\"{i} - Name: {mf.get_filename()}, change_type: {mf.get_change_type()}, Modifications: {mf.get_modifications()},  Number of lines: {mf.get_nloc()}, Complexity: {mf.get_complexity()}\")\n",
    "        i += 1"
   ]
  },
  {
   "cell_type": "code",
   "execution_count": 44,
   "metadata": {},
   "outputs": [
    {
     "name": "stdout",
     "output_type": "stream",
     "text": [
      "383b3e3466dd075909d2e0079b5722ba833c913d\n",
      "2c089e5309fa70e059669b27894586314bc4adc9\n",
      "0077b275cb7cdd927bf59b8fa8b35fceaf1947a0\n",
      "b03ce2636eb5b2bf5ca4e3398448231ba059cfd3\n",
      "f894e1c01279bc7571ec5ec05eaeaf59c186f991\n",
      "1 - Name: UserController.java, change_type: MODIFY, Modifications: 6,  Number of lines: 299, Complexity: 35\n",
      "71fe6c262576662964fae85c55140b4642d629aa\n",
      "1 - Name: Coupon.java, change_type: MODIFY, Modifications: 20,  Number of lines: 66, Complexity: 15\n",
      "2 - Name: Users.java, change_type: MODIFY, Modifications: 4,  Number of lines: 139, Complexity: 32\n",
      "ab2b304ddfa6a605af1d683d394c3488333c858d\n",
      "1 - Name: Coupon.java, change_type: MODIFY, Modifications: 63,  Number of lines: 105, Complexity: 26\n",
      "591244cea9b763db7a9977127c572d0bb3e3a8bb\n",
      "bb71734ac1c6dcf07b06f1c6f4bcfe890d771a95\n",
      "1 - Name: Coupon.java, change_type: MODIFY, Modifications: 6,  Number of lines: 108, Complexity: 26\n",
      "2 - Name: Users.java, change_type: MODIFY, Modifications: 34,  Number of lines: 154, Complexity: 36\n",
      "b8c3a7ea7be6b8c88407ab75a25b86163ad04abd\n",
      "fc0998d367aea7219a4791fcbcc5155b125b456e\n",
      "1 - Name: StoreController.java, change_type: MODIFY, Modifications: 25,  Number of lines: 321, Complexity: 39\n",
      "2 - Name: LocationStore.java, change_type: ADD, Modifications: 79,  Number of lines: 72, Complexity: 18\n",
      "ed1ceae8bf1789a30fc98fbfa24c2f2c8da1bf64\n",
      "c58cc0e6a8bb9355745b4fd5cc7accf3a56b4668\n",
      "1 - Name: Store.java, change_type: MODIFY, Modifications: 18,  Number of lines: 96, Complexity: 24\n",
      "2 - Name: LocationStore.java, change_type: MODIFY, Modifications: 20,  Number of lines: 88, Complexity: 22\n",
      "\n",
      "conjunto: [[], [], [], [], ['UserController.java'], ['Coupon.java', 'Users.java'], ['Coupon.java'], [], ['Coupon.java', 'Users.java'], [], ['StoreController.java', 'LocationStore.java'], [], ['Store.java', 'LocationStore.java']]\n"
     ]
    }
   ],
   "source": [
    "lista_conjunto = []\n",
    "lista_aux = []\n",
    "for commit in lista_commits_entre_tags:\n",
    "    print(commit.hash)\n",
    "    i = 1\n",
    "    for m in utils.list_modified_files_from_commit(commit.hash, repositorio_git_local):\n",
    "        mf = entities.MyModifiedFile(m)\n",
    "        name = mf.get_filename()\n",
    "        if '.java' in name:\n",
    "            print(f\"{i} - Name: {mf.get_filename()}, change_type: {mf.get_change_type()}, Modifications: {mf.get_modifications()},  Number of lines: {mf.get_nloc()}, Complexity: {mf.get_complexity()}\")\n",
    "            lista_aux.append(name)\n",
    "            i += 1  \n",
    "    i = 0  \n",
    "    lista_conjunto.append(lista_aux)\n",
    "    lista_aux = []\n",
    "print('')\n",
    "print(f'conjunto: {lista_conjunto}')"
   ]
  },
  {
   "cell_type": "code",
   "execution_count": null,
   "metadata": {},
   "outputs": [],
   "source": []
  }
 ],
 "metadata": {
  "interpreter": {
   "hash": "58bc13ec4dd135858b8220102d0ad3358f57eb64d131366ec25c4d4365eacf63"
  },
  "kernelspec": {
   "display_name": "Python 3.6.3 64-bit",
   "name": "python3"
  },
  "language_info": {
   "codemirror_mode": {
    "name": "ipython",
    "version": 3
   },
   "file_extension": ".py",
   "mimetype": "text/x-python",
   "name": "python",
   "nbconvert_exporter": "python",
   "pygments_lexer": "ipython3",
   "version": "3.6.3"
  },
  "orig_nbformat": 4
 },
 "nbformat": 4,
 "nbformat_minor": 2
}
