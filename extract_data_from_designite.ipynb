{
 "cells": [
  {
   "cell_type": "markdown",
   "metadata": {},
   "source": [
    "# Compara os resultados da analise do designite e dos arquivos modificados"
   ]
  },
  {
   "cell_type": "markdown",
   "metadata": {},
   "source": [
    "# Release: cassandra-3.1"
   ]
  },
  {
   "cell_type": "code",
   "execution_count": 21,
   "metadata": {},
   "outputs": [],
   "source": [
    "import pandas as pd\n",
    "import util_designite"
   ]
  },
  {
   "cell_type": "code",
   "execution_count": 22,
   "metadata": {},
   "outputs": [
    {
     "data": {
      "text/html": [
       "<div>\n",
       "<style scoped>\n",
       "    .dataframe tbody tr th:only-of-type {\n",
       "        vertical-align: middle;\n",
       "    }\n",
       "\n",
       "    .dataframe tbody tr th {\n",
       "        vertical-align: top;\n",
       "    }\n",
       "\n",
       "    .dataframe thead th {\n",
       "        text-align: right;\n",
       "    }\n",
       "</style>\n",
       "<table border=\"1\" class=\"dataframe\">\n",
       "  <thead>\n",
       "    <tr style=\"text-align: right;\">\n",
       "      <th></th>\n",
       "      <th>Project Name</th>\n",
       "      <th>Package Name</th>\n",
       "      <th>Architecture Smell</th>\n",
       "      <th>Cause of the Smell</th>\n",
       "    </tr>\n",
       "  </thead>\n",
       "  <tbody>\n",
       "    <tr>\n",
       "      <th>0</th>\n",
       "      <td>v-3-1-0</td>\n",
       "      <td>org.apache.cassandra.metrics</td>\n",
       "      <td>God Component</td>\n",
       "      <td>The tool detected the smell in this component ...</td>\n",
       "    </tr>\n",
       "    <tr>\n",
       "      <th>1</th>\n",
       "      <td>v-3-1-0</td>\n",
       "      <td>org.apache.cassandra.metrics</td>\n",
       "      <td>Cyclic Dependency</td>\n",
       "      <td>The tool detected the smell in this component ...</td>\n",
       "    </tr>\n",
       "    <tr>\n",
       "      <th>2</th>\n",
       "      <td>v-3-1-0</td>\n",
       "      <td>org.apache.cassandra.metrics</td>\n",
       "      <td>Cyclic Dependency</td>\n",
       "      <td>The tool detected the smell in this component ...</td>\n",
       "    </tr>\n",
       "  </tbody>\n",
       "</table>\n",
       "</div>"
      ],
      "text/plain": [
       "  Project Name                  Package Name Architecture Smell  \\\n",
       "0      v-3-1-0  org.apache.cassandra.metrics      God Component   \n",
       "1      v-3-1-0  org.apache.cassandra.metrics  Cyclic Dependency   \n",
       "2      v-3-1-0  org.apache.cassandra.metrics  Cyclic Dependency   \n",
       "\n",
       "                                  Cause of the Smell  \n",
       "0  The tool detected the smell in this component ...  \n",
       "1  The tool detected the smell in this component ...  \n",
       "2  The tool detected the smell in this component ...  "
      ]
     },
     "execution_count": 22,
     "metadata": {},
     "output_type": "execute_result"
    }
   ],
   "source": [
    "df_architecture_smells_v_3_1_0 = util_designite.init_df_architecture_smell_analysis(versao='3.1.0')\n",
    "df_architecture_smells_v_3_1_0.head(3)"
   ]
  },
  {
   "cell_type": "code",
   "execution_count": 23,
   "metadata": {},
   "outputs": [
    {
     "data": {
      "text/html": [
       "<div>\n",
       "<style scoped>\n",
       "    .dataframe tbody tr th:only-of-type {\n",
       "        vertical-align: middle;\n",
       "    }\n",
       "\n",
       "    .dataframe tbody tr th {\n",
       "        vertical-align: top;\n",
       "    }\n",
       "\n",
       "    .dataframe thead th {\n",
       "        text-align: right;\n",
       "    }\n",
       "</style>\n",
       "<table border=\"1\" class=\"dataframe\">\n",
       "  <thead>\n",
       "    <tr style=\"text-align: right;\">\n",
       "      <th></th>\n",
       "      <th>Project Name</th>\n",
       "      <th>Package Name</th>\n",
       "      <th>Type Name</th>\n",
       "      <th>Design Smell</th>\n",
       "      <th>Cause of the Smell</th>\n",
       "    </tr>\n",
       "  </thead>\n",
       "  <tbody>\n",
       "    <tr>\n",
       "      <th>0</th>\n",
       "      <td>v-3-1-0</td>\n",
       "      <td>org.apache.cassandra.metrics</td>\n",
       "      <td>EstimatedHistogramReservoir</td>\n",
       "      <td>Unutilized Abstraction</td>\n",
       "      <td>The tool detected the smell in this class beca...</td>\n",
       "    </tr>\n",
       "    <tr>\n",
       "      <th>1</th>\n",
       "      <td>v-3-1-0</td>\n",
       "      <td>org.apache.cassandra.metrics</td>\n",
       "      <td>LatencyMetrics</td>\n",
       "      <td>Unutilized Abstraction</td>\n",
       "      <td>The tool detected the smell in this class beca...</td>\n",
       "    </tr>\n",
       "    <tr>\n",
       "      <th>2</th>\n",
       "      <td>v-3-1-0</td>\n",
       "      <td>org.apache.cassandra.metrics</td>\n",
       "      <td>LatencyMetrics</td>\n",
       "      <td>Deficient Encapsulation</td>\n",
       "      <td>The tool detected the smell in this class beca...</td>\n",
       "    </tr>\n",
       "  </tbody>\n",
       "</table>\n",
       "</div>"
      ],
      "text/plain": [
       "  Project Name                  Package Name                    Type Name  \\\n",
       "0      v-3-1-0  org.apache.cassandra.metrics  EstimatedHistogramReservoir   \n",
       "1      v-3-1-0  org.apache.cassandra.metrics               LatencyMetrics   \n",
       "2      v-3-1-0  org.apache.cassandra.metrics               LatencyMetrics   \n",
       "\n",
       "              Design Smell                                 Cause of the Smell  \n",
       "0   Unutilized Abstraction  The tool detected the smell in this class beca...  \n",
       "1   Unutilized Abstraction  The tool detected the smell in this class beca...  \n",
       "2  Deficient Encapsulation  The tool detected the smell in this class beca...  "
      ]
     },
     "execution_count": 23,
     "metadata": {},
     "output_type": "execute_result"
    }
   ],
   "source": [
    "df_design_smells_v_3_1_0 = util_designite.init_df_design_smell_analysis(versao='3.1.0')\n",
    "df_design_smells_v_3_1_0.head(3)"
   ]
  },
  {
   "cell_type": "code",
   "execution_count": 24,
   "metadata": {},
   "outputs": [
    {
     "name": "stdout",
     "output_type": "stream",
     "text": [
      "['Unutilized Abstraction', 'Deficient Encapsulation', 'Multifaceted Abstraction', 'Unnecessary Abstraction', 'Cyclically-dependent Modularization', 'Insufficient Modularization', 'Broken Modularization', 'Imperative Abstraction', 'Hub-like Modularization', 'Broken Hierarchy', 'Cyclic Hierarchy', 'Rebellious Hierarchy']\n"
     ]
    }
   ],
   "source": [
    "df_temp = df_design_smells_v_3_1_0.copy()\n",
    "list_design_smell = list( df_temp['Design Smell'].unique() )\n",
    "print(list_design_smell)\n"
   ]
  },
  {
   "cell_type": "markdown",
   "metadata": {},
   "source": [
    "## --- Identificar os Architectural Smells ---"
   ]
  },
  {
   "cell_type": "markdown",
   "metadata": {},
   "source": [
    "### 1. Quais registros correspondem a Cyclic Dependency?\n",
    "\n",
    "### 1.1 Lista os pacotes que possuem dependência cíclica\n",
    "\n",
    "#### Obs: O Designite java não mostra os arquivos (classes) com dependencia cíclica, só mostra os pacotes"
   ]
  },
  {
   "cell_type": "code",
   "execution_count": 25,
   "metadata": {},
   "outputs": [
    {
     "name": "stdout",
     "output_type": "stream",
     "text": [
      "Fragmento...\n",
      "1  org.apache.cassandra.metrics; org.apache.cassandra.utils\n",
      "2  org.apache.cassandra.metrics; org.apache.cassandra.utils; org.apache.cassandra.db\n",
      "3  org.apache.cassandra.tracing; org.apache.cassandra.concurrent\n",
      "4  org.apache.cassandra.tracing; org.apache.cassandra.utils; org.apache.cassandra.concurrent\n",
      "5  org.apache.cassandra.tracing; org.apache.cassandra.utils; org.apache.cassandra.concurrent; org.apache.cassandra.service\n",
      "6  org.apache.cassandra.locator; org.apache.cassandra.db\n",
      "7  org.apache.cassandra.locator; org.apache.cassandra.gms; org.apache.cassandra.db\n",
      "8  org.apache.cassandra.locator; org.apache.cassandra.gms; org.apache.cassandra.net; org.apache.cassandra.service\n",
      "9  org.apache.cassandra.locator; org.apache.cassandra.gms; org.apache.cassandra.net; org.apache.cassandra.dht; org.apache.cassandra.service\n",
      "...\n"
     ]
    }
   ],
   "source": [
    "list_cyclic_dependency_v_3_1_0 = util_designite.extract_list_of_architecture_smells(df_architecture_smells_v_3_1_0, util_designite.texto_padrao_Cyclic_Dependency)\n",
    "\n",
    "print('Fragmento...')\n",
    "i = 1\n",
    "for each in list_cyclic_dependency_v_3_1_0:\n",
    "    if i < 10:\n",
    "        print(f'{i} {each[2]}')\n",
    "        i += 1\n",
    "    else:\n",
    "        break\n",
    "\n",
    "print('...')"
   ]
  },
  {
   "cell_type": "markdown",
   "metadata": {},
   "source": [
    "### 2. Quais registros correspondem a Feature Concentration?\n",
    "\n",
    "### 2.1 Lista os arquivos que possem Feature Concentration"
   ]
  },
  {
   "cell_type": "code",
   "execution_count": 26,
   "metadata": {},
   "outputs": [
    {
     "name": "stdout",
     "output_type": "stream",
     "text": [
      "Fragmento...\n",
      "1 org.apache.cassandra.metrics,  [EstimatedHistogramReservoir; HistogramSnapshot]; [LatencyMetrics]; [BufferPoolMetrics]; [MetricNameFactory; CassandraMetricsRegistry; DefaultNameFactory; ThreadPoolMetricNameFactory; KeyspaceMetrics; KeyspaceMetricNameFactory; ThreadPoolMetrics; TableMetrics; TableMetricNameFactory; AllTableMetricNameFactory]; [SEPMetrics]; [HintsServiceMetrics]; [DroppedMessageMetrics]; [CASClientRequestMetrics]; [ClientRequestMetrics]; [CompactionMetrics]; [ClearableHistogram]; [ViewWriteMetrics]; [ReadRepairMetrics]; [ConnectionMetrics]; [ClientMetrics]; [CacheMetrics]; [StreamingMetrics]; [GetHistogram]; [TableHistogram]; [TableTimer]; [StorageMetrics]; [MetricMBean]; [AbstractBean]; [JmxGaugeMBean]; [JmxGauge]; [JmxHistogramMBean]; [JmxHistogram]; [JmxCounterMBean]; [JmxCounter]; [JmxMeterMBean]; [JmxMeter]; [JmxTimerMBean]; [JmxTimer]; [MetricName]; [HintedHandoffMetrics]; [DifferencingCounter]; [RestorableMeter; RestorableEWMA]; [CQLMetrics]; [CommitLogMetrics]; [MetricValue]. LCC (Lack of Component Cohesion) = 0.78\n",
      "2 org.apache.cassandra.locator,  [OldNetworkTopologyStrategy; TokenMetadata; NetworkTopologyStrategy; AbstractReplicationStrategy; SimpleStrategy]; [GoogleCloudSnitch]; [PropertyFileSnitch; GossipingPropertyFileSnitch; SnitchProperties]; [Topology]; [IEndpointSnitch]; [DynamicEndpointSnitchMBean]; [SeedProvider]; [SimpleSnitch]; [ILatencySubscriber]; [Ec2Snitch]; [RackInferringSnitch]; [EndpointSnitchInfoMBean]; [AbstractEndpointSnitch]; [CloudstackSnitch]; [EndpointSnitchInfo]; [SimpleSeedProvider]; [Ec2MultiRegionSnitch]; [ReconnectableSnitchHelper]; [LocalStrategy]; [AbstractNetworkTopologySnitch]; [DynamicEndpointSnitch]. LCC (Lack of Component Cohesion) = 0.78\n",
      "3 org.apache.cassandra.tools,  [StandaloneScrubber; Options; Util; StandaloneSSTableUtil; StandaloneUpgrader; SSTableRepairedAtSetter; AbstractJmxClient; JMXConnection; StandaloneVerifier; SSTableMetadataViewer; SSTableOfflineRelevel; SSTableLevelResetter; StandaloneSplitter; SSTableExpiredBlockers]; [RepairRunner]; [Options]; [Options]; [GetVersion]; [NodeTool]; [NodeToolCmd]; [Options]; [BulkLoader; LoaderOptions]; [ProgressIndicator]; [ExternalClient]; [CmdLineOptions]; [BulkLoadConnectionFactory]; [Relevel]; [NodeProbe]; [ColumnFamilyStoreMBeanIterator]; [BootstrapMonitor]; [Options]. LCC (Lack of Component Cohesion) = 0.56\n",
      "4 org.apache.cassandra.tools.nodetool,  [Join]; [StatusBinary]; [SetLoggingLevel]; [CfHistograms]; [EnableHandoff]; [EnableHintsForDC]; [DisableBinary]; [Status]; [Stop]; [GetEndpoints]; [GetLoggingLevels]; [RangeKeySample]; [TopPartitions]; [Rebuild]; [StatusThrift]; [RebuildIndex]; [ProxyHistograms]; [GetStreamThroughput]; [CompactionHistory]; [NetStats]; [Assassinate]; [DisableHandoff]; [TruncateHints]; [SetCompactionThroughput]; [GetSSTables]; [DisableThrift]; [Ring]; [Info]; [StatusGossip]; [Compact]; [Refresh]; [ListSnapshots]; [CompactionStats]; [GetTraceProbability]; [Scrub]; [RemoveNode]; [DisableGossip]; [EnableBackup]; [TableHistograms]; [ReplayBatchlog]; [InvalidateRowCache]; [StopDaemon]; [Flush]; [Cleanup]; [ResumeHandoff]; [ClearSnapshot]; [InvalidateCounterCache]; [Snapshot]; [GetCompactionThroughput]; [CfStats]; [StatusHandoff]; [SetStreamThroughput]; [InvalidateKeyCache]; [DescribeRing]; [HostStat]; [SetHintedHandoffThrottleInKB]; [EnableThrift]; [Repair]; [Drain]; [SetCacheKeysToSave]; [EnableBinary]; [TableStats]; [OptionFilter]; [GossipInfo]; [BootstrapResume]; [GetCompactionThreshold]; [DisableHintsForDC]; [ResetLocalSchema]; [SetCacheCapacity]; [Verify]; [TpStats]; [DisableAutoCompaction]; [RefreshSizeEstimates]; [SetHostStat]; [Move]; [UpgradeSSTable]; [FailureDetectorInfo]; [Decommission]; [PauseHandoff]; [EnableAutoCompaction]; [ReloadTriggers]; [GcStats]; [StatusBackup]; [DescribeCluster]; [SetCompactionThreshold]; [Version]; [SetTraceProbability]; [EnableGossip]; [DisableBackup]. LCC (Lack of Component Cohesion) = 1.0\n",
      "...\n"
     ]
    }
   ],
   "source": [
    "list_feature_concentration_v_3_1_0 = util_designite.extract_list_of_architecture_smells(df_architecture_smells_v_3_1_0, util_designite.texto_padrao_Feature_Concentration)\n",
    "\n",
    "print('Fragmento...')\n",
    "i = 1\n",
    "for each in list_feature_concentration_v_3_1_0:\n",
    "    if i < 5:\n",
    "        print(f'{i} {each[0]}, {each[2]}')\n",
    "        i += 1\n",
    "    else:\n",
    "        break\n",
    "print('...')"
   ]
  },
  {
   "cell_type": "markdown",
   "metadata": {},
   "source": [
    "### 3. Quais registros correspondem a Unstable Dependency?\n",
    "\n",
    "### 3.1 Lista os arquivos que possem Unstable Dependency\n",
    "\n",
    "#### Obs: O Designite java não mostra os arquivos (classes) com dependencia instável, só mostra os pacotes"
   ]
  },
  {
   "cell_type": "code",
   "execution_count": 27,
   "metadata": {},
   "outputs": [
    {
     "name": "stdout",
     "output_type": "stream",
     "text": [
      "Fragmento...\n",
      "1 org.apache.cassandra.metrics,  org.apache.cassandra.db.compaction; org.apache.cassandra.io.sstable.metadata\n",
      "2 org.apache.cassandra.tracing,  org.apache.cassandra.service; org.apache.cassandra.db.marshal; org.apache.cassandra.net; org.apache.cassandra.schema\n",
      "3 org.apache.cassandra.net,  org.apache.cassandra.dht; org.apache.cassandra.repair.messages; org.apache.cassandra.gms; org.apache.cassandra.service.paxos; org.apache.cassandra.hints; org.apache.cassandra.batchlog; org.apache.cassandra.metrics; org.apache.cassandra.io.util; org.apache.cassandra.service; org.apache.cassandra.db; org.apache.cassandra.streaming.messages; org.apache.cassandra.streaming\n",
      "4 org.apache.cassandra.transport,  org.apache.cassandra.service; org.apache.cassandra.db.marshal; org.apache.cassandra.auth; org.apache.cassandra.transport.messages\n",
      "5 org.apache.cassandra.transport.messages,  org.apache.cassandra.cql3.statements; org.apache.cassandra.auth\n",
      "6 org.apache.cassandra.cql3,  org.apache.cassandra.db.marshal; org.apache.cassandra.transport; org.apache.cassandra.transport.messages; org.apache.cassandra.cql3.statements; org.apache.cassandra.db.partitions; org.apache.cassandra.cql3.restrictions; org.apache.cassandra.db.filter; org.apache.cassandra.service; org.apache.cassandra.service.pager; org.apache.cassandra.cql3.selection\n",
      "7 org.apache.cassandra.cql3.statements,  org.apache.cassandra.service.paxos; org.apache.cassandra.cql3.restrictions; org.apache.cassandra.auth\n",
      "8 org.apache.cassandra.cql3.selection,  org.apache.cassandra.cql3.functions\n",
      "9 org.apache.cassandra.config,  org.apache.cassandra.cql3.statements; org.apache.cassandra.db.view; org.apache.cassandra.db; org.apache.cassandra.service; org.apache.cassandra.db.compaction; org.apache.cassandra.db.commitlog; org.apache.cassandra.cql3; org.apache.cassandra.io.sstable.format; org.apache.cassandra.thrift; org.apache.cassandra.net; org.apache.cassandra.io.util\n",
      "...\n"
     ]
    }
   ],
   "source": [
    "list_unstable_dependency_v_3_1_0 = util_designite.extract_list_of_architecture_smells(df_architecture_smells_v_3_1_0, util_designite.texto_padrao_Unstable_Dependency)\n",
    "\n",
    "print('Fragmento...')\n",
    "i = 1\n",
    "for each in list_unstable_dependency_v_3_1_0:\n",
    "    if i < 10:\n",
    "        print(f'{i} {each[0]}, {each[2]}')\n",
    "        i += 1\n",
    "    else: \n",
    "        break\n",
    "print('...')"
   ]
  },
  {
   "cell_type": "markdown",
   "metadata": {},
   "source": [
    "### 4. Quais registros correspondem a Scattered Functionality?\n",
    "\n",
    "### 4.1 Lista os arquivos que possem Scattered Functionality\n",
    "\n",
    "#### Obs: O Designite java não mostra os arquivos (classes) que possuem Scattered Functionality, só mostra os pacotes"
   ]
  },
  {
   "cell_type": "code",
   "execution_count": 28,
   "metadata": {},
   "outputs": [
    {
     "name": "stdout",
     "output_type": "stream",
     "text": [
      "Fragmento...\n",
      "1 org.apache.cassandra.service.pager,  org.apache.cassandra.db; org.apache.cassandra.db.filter.\n",
      "2 org.apache.cassandra.service.pager,  org.apache.cassandra.db.rows; org.apache.cassandra.db; org.apache.cassandra.db.filter; org.apache.cassandra.utils.\n",
      "3 org.apache.cassandra.service.pager,  org.apache.cassandra.db.filter; org.apache.cassandra.db.rows.\n",
      "...\n"
     ]
    }
   ],
   "source": [
    "list_Scattered_Functionality_v_3_1_0 = util_designite.extract_list_of_architecture_smells(df_architecture_smells_v_3_1_0, util_designite.texto_padrao_Scattered_functionality)\n",
    "\n",
    "print('Fragmento...')\n",
    "i = 1\n",
    "for each in list_Scattered_Functionality_v_3_1_0:\n",
    "    if i < 10:\n",
    "        print(f'{i} {each[0]}, {each[2]}')\n",
    "        i += 1\n",
    "    else:\n",
    "        break\n",
    "print('...')"
   ]
  },
  {
   "cell_type": "markdown",
   "metadata": {},
   "source": [
    "### 5. Quais registros correspondem a Dense structure?\n",
    "\n",
    "### 5.1 Lista os arquivos que possem Dense structure\n",
    "\n",
    "#### Obs: O Designite java não mostra os arquivos (classes) que possem Dense structure, só mostra os pacotes"
   ]
  },
  {
   "cell_type": "code",
   "execution_count": 29,
   "metadata": {},
   "outputs": [
    {
     "name": "stdout",
     "output_type": "stream",
     "text": [
      "1 <All packages>,   Average degree = 16.88. All the dependencies among components: from: org.apache.cassandra.metrics to: org.apache.cassandra.utils; from: org.apache.cassandra.metrics to: org.apache.cassandra.utils.memory; from: org.apache.cassandra.metrics to: org.apache.cassandra.net; from: org.apache.cassandra.metrics to: org.apache.cassandra.db.compaction; from: org.apache.cassandra.metrics to: org.apache.cassandra.config; from: org.apache.cassandra.metrics to: org.apache.cassandra.db; from: org.apache.cassandra.metrics to: org.apache.cassandra.io.sstable.metadata; from: org.apache.cassandra.metrics to: org.apache.cassandra.io.sstable.format; from: org.apache.cassandra.metrics to: org.apache.cassandra.cql3; from: org.apache.cassandra.tracing to: org.apache.cassandra.utils; from: org.apache.cassandra.tracing to: org.apache.cassandra.utils.progress; from: org.apache.cassandra.tracing to: org.apache.cassandra.concurrent; from: org.apache.cassandra.tracing to: org.apache.cassandra.service; from: org.apache.cassandra.tracing to: org.apache.cassandra.db.marshal; from: org.apache.cassandra.tracing to: org.apache.cassandra.net; from: org.apache.cassandra.tracing to: org.apache.cassandra.config; from: org.apache.cassandra.tracing to: org.apache.cassandra.schema; from: org.apache.cassandra.locator to: org.apache.cassandra.gms; from: org.apache.cassandra.locator to: org.apache.cassandra.io.util; from: org.apache.cassandra.locator to: org.apache.cassandra.utils; from: org.apache.cassandra.locator to: org.apache.cassandra.db; from: org.apache.cassandra.locator to: org.apache.cassandra.service; from: org.apache.cassandra.locator to: org.apache.cassandra.config; from: org.apache.cassandra.locator to: org.apache.cassandra.net; from: org.apache.cassandra.locator to: org.apache.cassandra.concurrent; from: org.apache.cassandra.tools to: org.apache.cassandra.config; from: org.apache.cassandra.tools to: org.apache.cassandra.utils; from: org.apache.cassandra.tools to: org.apache.cassandra.db; from: org.apache.cassandra.tools to: org.apache.cassandra.io.sstable.format; from: org.apache.cassandra.tools to: org.apache.cassandra.db.lifecycle; from: org.apache.cassandra.tools to: org.apache.cassandra.db.compaction; from: org.apache.cassandra.tools to: org.apache.cassandra.io.sstable; from: org.apache.cassandra.tools to: org.apache.cassandra.service; from: org.apache.cassandra.tools to: org.apache.cassandra.security; from: org.apache.cassandra.tools to: org.apache.cassandra.net; from: org.apache.cassandra.tools to: org.apache.cassandra.streaming; from: org.apache.cassandra.tools to: org.apache.cassandra.gms; from: org.apache.cassandra.tools to: org.apache.cassandra.batchlog; from: org.apache.cassandra.tools to: org.apache.cassandra.metrics; from: org.apache.cassandra.tools to: org.apache.cassandra.streaming.management; from: org.apache.cassandra.tools to: org.apache.cassandra.locator; from: org.apache.cassandra.tools.nodetool to: org.apache.cassandra.tools; from: org.apache.cassandra.tools.nodetool to: org.apache.cassandra.metrics; from: org.apache.cassandra.tools.nodetool to: org.apache.cassandra.io.util; from: org.apache.cassandra.tools.nodetool to: org.apache.cassandra.utils; from: org.apache.cassandra.tools.nodetool to: org.apache.cassandra.config; from: org.apache.cassandra.tools.nodetool to: org.apache.cassandra.repair; from: org.apache.cassandra.tools.nodetool to: org.apache.cassandra.repair.messages; from: org.apache.cassandra.net to: org.apache.cassandra.dht; from: org.apache.cassandra.net to: org.apache.cassandra.repair.messages; from: org.apache.cassandra.net to: org.apache.cassandra.gms; from: org.apache.cassandra.net to: org.apache.cassandra.service.paxos; from: org.apache.cassandra.net to: org.apache.cassandra.hints; from: org.apache.cassandra.net to: org.apache.cassandra.batchlog; from: org.apache.cassandra.net to: org.apache.cassandra.concurrent; from: org.apache.cassandra.net to: org.apache.cassandra.metrics; from: org.apache.cassandra.net to: org.apache.cassandra.config; from: org.apache.cassandra.net to: org.apache.cassandra.tracing; from: org.apache.cassandra.net to: org.apache.cassandra.security; from: org.apache.cassandra.net to: org.apache.cassandra.io.util; from: org.apache.cassandra.net to: org.apache.cassandra.service; from: org.apache.cassandra.net to: org.apache.cassandra.db; from: org.apache.cassandra.net to: org.apache.cassandra.utils; from: org.apache.cassandra.net to: org.apache.cassandra.streaming.messages; from: org.apache.cassandra.net to: org.apache.cassandra.streaming; from: org.apache.cassandra.transport to: org.apache.cassandra.service; from: org.apache.cassandra.transport to: org.apache.cassandra.utils; from: org.apache.cassandra.transport to: org.apache.cassandra.db.marshal; from: org.apache.cassandra.transport to: org.apache.cassandra.auth; from: org.apache.cassandra.transport to: org.apache.cassandra.cql3; from: org.apache.cassandra.transport to: org.apache.cassandra.config; from: org.apache.cassandra.transport to: org.apache.cassandra.transport.messages; from: org.apache.cassandra.transport to: org.apache.cassandra.db; from: org.apache.cassandra.transport to: org.apache.cassandra.security; from: org.apache.cassandra.transport.messages to: org.apache.cassandra.transport; from: org.apache.cassandra.transport.messages to: org.apache.cassandra.cql3; from: org.apache.cassandra.transport.messages to: org.apache.cassandra.tracing; from: org.apache.cassandra.transport.messages to: org.apache.cassandra.utils; from: org.apache.cassandra.transport.messages to: org.apache.cassandra.service; from: org.apache.cassandra.transport.messages to: org.apache.cassandra.config; from: org.apache.cassandra.transport.messages to: org.apache.cassandra.cql3.statements; from: org.apache.cassandra.transport.messages to: org.apache.cassandra.auth; from: org.apache.cassandra.cql3 to: org.apache.cassandra.utils; from: org.apache.cassandra.cql3 to: org.apache.cassandra.db.marshal; from: org.apache.cassandra.cql3 to: org.apache.cassandra.transport; from: org.apache.cassandra.cql3 to: org.apache.cassandra.serializers; from: org.apache.cassandra.cql3 to: org.apache.cassandra.transport.messages; from: org.apache.cassandra.cql3 to: org.apache.cassandra.cql3.statements; from: org.apache.cassandra.cql3 to: org.apache.cassandra.config; from: org.apache.cassandra.cql3 to: org.apache.cassandra.db; from: org.apache.cassandra.cql3 to: org.apache.cassandra.concurrent; from: org.apache.cassandra.cql3 to: org.apache.cassandra.db.partitions; from: org.apache.cassandra.cql3 to: org.apache.cassandra.tracing; from: org.apache.cassandra.cql3 to: org.apache.cassandra.cql3.restrictions; from: org.apache.cassandra.cql3 to: org.apache.cassandra.db.context; from: org.apache.cassandra.cql3 to: org.apache.cassandra.db.filter; from: org.apache.cassandra.cql3 to: org.apache.cassandra.service; from: org.apache.cassandra.cql3 to: org.apache.cassandra.service.pager; from: org.apache.cassandra.cql3 to: org.apache.cassandra.cql3.selection; from: org.apache.cassandra.cql3.restrictions to: org.apache.cassandra.db.filter; from: org.apache.cassandra.cql3.restrictions to: org.apache.cassandra.utils; from: org.apache.cassandra.cql3.restrictions to: org.apache.cassandra.config; from: org.apache.cassandra.cql3.restrictions to: org.apache.cassandra.net; from: org.apache.cassandra.cql3.restrictions to: org.apache.cassandra.utils.btree; from: org.apache.cassandra.cql3.restrictions to: org.apache.cassandra.cql3; from: org.apache.cassandra.cql3.restrictions to: org.apache.cassandra.db; from: org.apache.cassandra.cql3.restrictions to: org.apache.cassandra.dht; from: org.apache.cassandra.cql3.statements to: org.apache.cassandra.db; from: org.apache.cassandra.cql3.statements to: org.apache.cassandra.transport.messages; from: org.apache.cassandra.cql3.statements to: org.apache.cassandra.db.marshal; from: org.apache.cassandra.cql3.statements to: org.apache.cassandra.cql3.selection; from: org.apache.cassandra.cql3.statements to: org.apache.cassandra.triggers; from: org.apache.cassandra.cql3.statements to: org.apache.cassandra.db.view; from: org.apache.cassandra.cql3.statements to: org.apache.cassandra.utils; from: org.apache.cassandra.cql3.statements to: org.apache.cassandra.service; from: org.apache.cassandra.cql3.statements to: org.apache.cassandra.service.paxos; from: org.apache.cassandra.cql3.statements to: org.apache.cassandra.thrift; from: org.apache.cassandra.cql3.statements to: org.apache.cassandra.config; from: org.apache.cassandra.cql3.statements to: org.apache.cassandra.schema; from: org.apache.cassandra.cql3.statements to: org.apache.cassandra.transport; from: org.apache.cassandra.cql3.statements to: org.apache.cassandra.tracing; from: org.apache.cassandra.cql3.statements to: org.apache.cassandra.cql3; from: org.apache.cassandra.cql3.statements to: org.apache.cassandra.db.filter; from: org.apache.cassandra.cql3.statements to: org.apache.cassandra.cql3.restrictions; from: org.apache.cassandra.cql3.statements to: org.apache.cassandra.auth; from: org.apache.cassandra.cql3.statements to: org.apache.cassandra.locator; from: org.apache.cassandra.cql3.functions to: org.apache.cassandra.db.marshal; from: org.apache.cassandra.cql3.functions to: org.apache.cassandra.utils; from: org.apache.cassandra.cql3.functions to: org.apache.cassandra.config; from: org.apache.cassandra.cql3.functions to: org.apache.cassandra.tracing; from: org.apache.cassandra.cql3.functions to: org.apache.cassandra.exceptions; from: org.apache.cassandra.cql3.functions to: org.apache.cassandra.service; from: org.apache.cassandra.cql3.functions to: org.apache.cassandra.schema; from: org.apache.cassandra.cql3.functions to: org.apache.cassandra.db; from: org.apache.cassandra.cql3.functions to: org.apache.cassandra.cql3; from: org.apache.cassandra.cql3.functions to: org.apache.cassandra.serializers; from: org.apache.cassandra.cql3.functions to: org.apache.cassandra.cql3.statements; from: org.apache.cassandra.cql3.functions to: org.apache.cassandra.transport; from: org.apache.cassandra.cql3.selection to: org.apache.cassandra.cql3; from: org.apache.cassandra.cql3.selection to: org.apache.cassandra.db.marshal; from: org.apache.cassandra.cql3.selection to: org.apache.cassandra.utils; from: org.apache.cassandra.cql3.selection to: org.apache.cassandra.db.context; from: org.apache.cassandra.cql3.selection to: org.apache.cassandra.cql3.functions; from: org.apache.cassandra.cache to: org.apache.cassandra.service; from: org.apache.cassandra.cache to: org.apache.cassandra.concurrent; from: org.apache.cassandra.cache to: org.apache.cassandra.config; from: org.apache.cassandra.cache to: org.apache.cassandra.db.compaction; from: org.apache.cassandra.cache to: org.apache.cassandra.db; from: org.apache.cassandra.cache to: org.apache.cassandra.utils; from: org.apache.cassandra.cache to: org.apache.cassandra.db.partitions; from: org.apache.cassandra.cache to: org.apache.cassandra.db.marshal; from: org.apache.cassandra.config to: org.apache.cassandra.cql3.statements; from: org.apache.cassandra.config to: org.apache.cassandra.db.view; from: org.apache.cassandra.config to: org.apache.cassandra.db; from: org.apache.cassandra.config to: org.apache.cassandra.service; from: org.apache.cassandra.config to: org.apache.cassandra.db.compaction; from: org.apache.cassandra.config to: org.apache.cassandra.db.commitlog; from: org.apache.cassandra.config to: org.apache.cassandra.utils; from: org.apache.cassandra.config to: org.apache.cassandra.cql3; from: org.apache.cassandra.config to: org.apache.cassandra.io.sstable.format; from: org.apache.cassandra.config to: org.apache.cassandra.thrift; from: org.apache.cassandra.config to: org.apache.cassandra.net; from: org.apache.cassandra.config to: org.apache.cassandra.io.util; from: org.apache.cassandra.security to: org.apache.cassandra.io.util; from: org.apache.cassandra.auth to: org.apache.cassandra.config; from: org.apache.cassandra.auth to: org.apache.cassandra.utils; from: org.apache.cassandra.auth to: org.apache.cassandra.transport.messages; from: org.apache.cassandra.auth to: org.apache.cassandra.service; from: org.apache.cassandra.auth to: org.apache.cassandra.cql3; from: org.apache.cassandra.auth to: org.apache.cassandra.schema; from: org.apache.cassandra.auth to: org.apache.cassandra.db.marshal; from: org.apache.cassandra.auth to: org.apache.cassandra.concurrent; from: org.apache.cassandra.auth to: org.apache.cassandra.net; from: org.apache.cassandra.auth to: org.apache.cassandra.cql3.statements; from: org.apache.cassandra.auth to: org.apache.cassandra.serializers; from: org.apache.cassandra.triggers to: org.apache.cassandra.utils; from: org.apache.cassandra.triggers to: org.apache.cassandra.db.partitions; from: org.apache.cassandra.triggers to: org.apache.cassandra.cql3; from: org.apache.cassandra.dht to: org.apache.cassandra.gms; from: org.apache.cassandra.dht to: org.apache.cassandra.service; from: org.apache.cassandra.dht to: org.apache.cassandra.db.marshal; from: org.apache.cassandra.dht to: org.apache.cassandra.utils; from: org.apache.cassandra.dht to: org.apache.cassandra.db; from: org.apache.cassandra.dht to: org.apache.cassandra.config; from: org.apache.cassandra.dht to: org.apache.cassandra.dht.tokenallocator; from: org.apache.cassandra.dht to: org.apache.cassandra.streaming; from: org.apache.cassandra.dht to: org.apache.cassandra.net; from: org.apache.cassandra.io.compress to: org.apache.cassandra.utils; from: org.apache.cassandra.io.compress to: org.apache.cassandra.io.util; from: org.apache.cassandra.io.compress to: org.apache.cassandra.utils.memory; from: org.apache.cassandra.io.compress to: org.apache.cassandra.db; from: org.apache.cassandra.io.compress to: org.apache.cassandra.utils.concurrent; from: org.apache.cassandra.io.compress to: org.apache.cassandra.io.sstable; from: org.apache.cassandra.io.sstable to: org.apache.cassandra.db; from: org.apache.cassandra.io.sstable to: org.apache.cassandra.io.util; from: org.apache.cassandra.io.sstable to: org.apache.cassandra.utils; from: org.apache.cassandra.io.sstable to: org.apache.cassandra.utils.concurrent; from: org.apache.cassandra.io.sstable to: org.apache.cassandra.db.lifecycle; from: org.apache.cassandra.io.sstable to: org.apache.cassandra.io.sstable.format; from: org.apache.cassandra.io.sstable to: org.apache.cassandra.service; from: org.apache.cassandra.io.sstable to: org.apache.cassandra.db.rows; from: org.apache.cassandra.io.sstable to: org.apache.cassandra.utils.memory; from: org.apache.cassandra.io.sstable to: org.apache.cassandra.config; from: org.apache.cassandra.io.sstable to: org.apache.cassandra.io.sstable.format.big; from: org.apache.cassandra.io.sstable to: org.apache.cassandra.db.partitions; from: org.apache.cassandra.io.sstable to: org.apache.cassandra.concurrent; from: org.apache.cassandra.io.sstable to: org.apache.cassandra.dht; from: org.apache.cassandra.io.sstable to: org.apache.cassandra.cql3.statements; from: org.apache.cassandra.io.sstable to: org.apache.cassandra.schema; from: org.apache.cassandra.io.sstable to: org.apache.cassandra.net; from: org.apache.cassandra.io.sstable.format.big to: org.apache.cassandra.io.sstable.format; from: org.apache.cassandra.io.sstable.format.big to: org.apache.cassandra.tracing; from: org.apache.cassandra.io.sstable.format.big to: org.apache.cassandra.utils; from: org.apache.cassandra.io.sstable.format.big to: org.apache.cassandra.db; from: org.apache.cassandra.io.sstable.format.big to: org.apache.cassandra.dht; from: org.apache.cassandra.io.sstable.format.big to: org.apache.cassandra.io.util; from: org.apache.cassandra.io.sstable.format.big to: org.apache.cassandra.config; from: org.apache.cassandra.io.sstable.format.big to: org.apache.cassandra.db.transform; from: org.apache.cassandra.io.sstable.format.big to: org.apache.cassandra.net; from: org.apache.cassandra.io.sstable.format to: org.apache.cassandra.config; from: org.apache.cassandra.io.sstable.format to: org.apache.cassandra.io.sstable; from: org.apache.cassandra.io.sstable.format to: org.apache.cassandra.service; from: org.apache.cassandra.io.sstable.format to: org.apache.cassandra.metrics; from: org.apache.cassandra.io.sstable.format to: org.apache.cassandra.utils.concurrent; from: org.apache.cassandra.io.sstable.format to: org.apache.cassandra.concurrent; from: org.apache.cassandra.io.sstable.format to: org.apache.cassandra.index.internal; from: org.apache.cassandra.io.sstable.format to: org.apache.cassandra.dht; from: org.apache.cassandra.io.sstable.format to: org.apache.cassandra.db; from: org.apache.cassandra.io.sstable.format to: org.apache.cassandra.io.sstable.format.big; from: org.apache.cassandra.io.sstable.format to: org.apache.cassandra.io.util; from: org.apache.cassandra.io.sstable.metadata to: org.apache.cassandra.utils; from: org.apache.cassandra.io.sstable.metadata to: org.apache.cassandra.db.commitlog; from: org.apache.cassandra.io.sstable.metadata to: org.apache.cassandra.db; from: org.apache.cassandra.io.sstable.metadata to: org.apache.cassandra.io.sstable; from: org.apache.cassandra.io.sstable.metadata to: org.apache.cassandra.service; from: org.apache.cassandra.io.sstable.metadata to: org.apache.cassandra.db.rows; from: org.apache.cassandra.io.sstable.metadata to: org.apache.cassandra.io.util; from: org.apache.cassandra.io.util to: org.apache.cassandra.utils.memory; from: org.apache.cassandra.io.util to: org.apache.cassandra.utils.concurrent; from: org.apache.cassandra.io.util to: org.apache.cassandra.utils; from: org.apache.cassandra.io.util to: org.apache.cassandra.io.sstable; from: org.apache.cassandra.io.util to: org.apache.cassandra.config; from: org.apache.cassandra.io.util to: org.apache.cassandra.concurrent; from: org.apache.cassandra.io.util to: org.apache.cassandra.service; from: org.apache.cassandra.io.util to: org.apache.cassandra.db; from: org.apache.cassandra.io.util to: org.apache.cassandra.utils.vint; from: org.apache.cassandra.io.util to: org.apache.cassandra.io.compress; from: org.apache.cassandra.utils to: org.apache.cassandra.concurrent; from: org.apache.cassandra.utils to: org.apache.cassandra.config; from: org.apache.cassandra.utils to: org.apache.cassandra.db; from: org.apache.cassandra.utils to: org.apache.cassandra.dht; from: org.apache.cassandra.utils to: org.apache.cassandra.net; from: org.apache.cassandra.utils to: org.apache.cassandra.io.sstable; from: org.apache.cassandra.utils to: org.apache.cassandra.schema; from: org.apache.cassandra.utils to: org.apache.cassandra.cql3; from: org.apache.cassandra.utils to: org.apache.cassandra.io.util; from: org.apache.cassandra.utils to: org.apache.cassandra.db.compaction; from: org.apache.cassandra.utils to: org.apache.cassandra.service; from: org.apache.cassandra.utils to: org.apache.cassandra.metrics; from: org.apache.cassandra.utils to: org.apache.cassandra.utils.concurrent; from: org.apache.cassandra.utils to: org.apache.cassandra.utils.obs; from: org.apache.cassandra.utils to: org.apache.cassandra.gms; from: org.apache.cassandra.utils.memory to: org.apache.cassandra.utils.concurrent; from: org.apache.cassandra.utils.memory to: org.apache.cassandra.db.rows; from: org.apache.cassandra.utils.memory to: org.apache.cassandra.utils; from: org.apache.cassandra.utils.memory to: org.apache.cassandra.io.util; from: org.apache.cassandra.utils.obs to: org.apache.cassandra.utils.concurrent; from: org.apache.cassandra.utils.obs to: org.apache.cassandra.db; from: org.apache.cassandra.utils.obs to: org.apache.cassandra.io.util; from: org.apache.cassandra.utils.btree to: org.apache.cassandra.utils; from: org.apache.cassandra.utils.concurrent to: org.apache.cassandra.utils; from: org.apache.cassandra.utils.concurrent to: org.apache.cassandra.db; from: org.apache.cassandra.exceptions to: org.apache.cassandra.db.marshal; from: org.apache.cassandra.batchlog to: org.apache.cassandra.utils; from: org.apache.cassandra.batchlog to: org.apache.cassandra.db; from: org.apache.cassandra.batchlog to: org.apache.cassandra.net; from: org.apache.cassandra.batchlog to: org.apache.cassandra.service; from: org.apache.cassandra.batchlog to: org.apache.cassandra.db.marshal; from: org.apache.cassandra.batchlog to: org.apache.cassandra.cql3; from: org.apache.cassandra.batchlog to: org.apache.cassandra.hints; from: org.apache.cassandra.batchlog to: org.apache.cassandra.gms; from: org.apache.cassandra.batchlog to: org.apache.cassandra.db.partitions; from: org.apache.cassandra.batchlog to: org.apache.cassandra.config; from: org.apache.cassandra.streaming.compress to: org.apache.cassandra.io.compress; from: org.apache.cassandra.streaming.compress to: org.apache.cassandra.config; from: org.apache.cassandra.streaming.compress to: org.apache.cassandra.streaming; from: org.apache.cassandra.streaming.compress to: org.apache.cassandra.db; from: org.apache.cassandra.streaming.compress to: org.apache.cassandra.utils; from: org.apache.cassandra.streaming.compress to: org.apache.cassandra.schema; from: org.apache.cassandra.streaming to: org.apache.cassandra.net; from: org.apache.cassandra.streaming to: org.apache.cassandra.config; from: org.apache.cassandra.streaming to: org.apache.cassandra.streaming.management; from: org.apache.cassandra.streaming to: org.apache.cassandra.dht; from: org.apache.cassandra.streaming to: org.apache.cassandra.db; from: org.apache.cassandra.streaming to: org.apache.cassandra.utils; from: org.apache.cassandra.streaming to: org.apache.cassandra.streaming.messages; from: org.apache.cassandra.streaming to: org.apache.cassandra.service; from: org.apache.cassandra.streaming to: org.apache.cassandra.db.lifecycle; from: org.apache.cassandra.streaming to: org.apache.cassandra.metrics; from: org.apache.cassandra.streaming to: org.apache.cassandra.io.sstable; from: org.apache.cassandra.streaming to: org.apache.cassandra.io.util; from: org.apache.cassandra.streaming to: org.apache.cassandra.utils.concurrent; from: org.apache.cassandra.streaming to: org.apache.cassandra.db.partitions; from: org.apache.cassandra.streaming to: org.apache.cassandra.io.sstable.format; from: org.apache.cassandra.streaming.messages to: org.apache.cassandra.utils; from: org.apache.cassandra.streaming.messages to: org.apache.cassandra.net; from: org.apache.cassandra.streaming.messages to: org.apache.cassandra.io.sstable.format; from: org.apache.cassandra.streaming.messages to: org.apache.cassandra.db; from: org.apache.cassandra.streaming.messages to: org.apache.cassandra.io.compress; from: org.apache.cassandra.streaming.messages to: org.apache.cassandra.streaming.compress; from: org.apache.cassandra.streaming.messages to: org.apache.cassandra.config; from: org.apache.cassandra.streaming.messages to: org.apache.cassandra.streaming; from: org.apache.cassandra.streaming.management to: org.apache.cassandra.streaming; from: org.apache.cassandra.thrift to: org.apache.cassandra.db; from: org.apache.cassandra.thrift to: org.apache.cassandra.tracing; from: org.apache.cassandra.thrift to: org.apache.cassandra.cql3; from: org.apache.cassandra.thrift to: org.apache.cassandra.dht; from: org.apache.cassandra.thrift to: org.apache.cassandra.cql3.statements; from: org.apache.cassandra.thrift to: org.apache.cassandra.db.marshal; from: org.apache.cassandra.thrift to: org.apache.cassandra.metrics; from: org.apache.cassandra.thrift to: org.apache.cassandra.utils.btree; from: org.apache.cassandra.thrift to: org.apache.cassandra.db.context; from: org.apache.cassandra.thrift to: org.apache.cassandra.service.pager; from: org.apache.cassandra.thrift to: org.apache.cassandra.db.view; from: org.apache.cassandra.thrift to: org.apache.cassandra.service; from: org.apache.cassandra.thrift to: org.apache.cassandra.config; from: org.apache.cassandra.thrift to: org.apache.cassandra.db.transform; from: org.apache.cassandra.thrift to: org.apache.cassandra.utils; from: org.apache.cassandra.thrift to: org.apache.cassandra.db.filter; from: org.apache.cassandra.thrift to: org.apache.cassandra.locator; from: org.apache.cassandra.thrift to: org.apache.cassandra.index.internal; from: org.apache.cassandra.thrift to: org.apache.cassandra.security; from: org.apache.cassandra.gms to: org.apache.cassandra.net; from: org.apache.cassandra.gms to: org.apache.cassandra.db; from: org.apache.cassandra.gms to: org.apache.cassandra.service; from: org.apache.cassandra.gms to: org.apache.cassandra.utils; from: org.apache.cassandra.gms to: org.apache.cassandra.config; from: org.apache.cassandra.gms to: org.apache.cassandra.concurrent; from: org.apache.cassandra.gms to: org.apache.cassandra.io.util; from: org.apache.cassandra.schema to: org.apache.cassandra.config; from: org.apache.cassandra.schema to: org.apache.cassandra.cql3.statements; from: org.apache.cassandra.schema to: org.apache.cassandra.utils; from: org.apache.cassandra.schema to: org.apache.cassandra.index; from: org.apache.cassandra.schema to: org.apache.cassandra.db.compaction; from: org.apache.cassandra.schema to: org.apache.cassandra.service; from: org.apache.cassandra.schema to: org.apache.cassandra.db; from: org.apache.cassandra.schema to: org.apache.cassandra.transport; from: org.apache.cassandra.schema to: org.apache.cassandra.cql3; from: org.apache.cassandra.schema to: org.apache.cassandra.db.view; from: org.apache.cassandra.schema to: org.apache.cassandra.utils.concurrent; from: org.apache.cassandra.schema to: org.apache.cassandra.db.rows; from: org.apache.cassandra.schema to: org.apache.cassandra.cql3.functions; from: org.apache.cassandra.serializers to: org.apache.cassandra.transport; from: org.apache.cassandra.serializers to: org.apache.cassandra.utils; from: org.apache.cassandra.hadoop.cql3 to: org.apache.cassandra.db; from: org.apache.cassandra.hadoop.cql3 to: org.apache.cassandra.hadoop; from: org.apache.cassandra.hadoop.cql3 to: org.apache.cassandra.utils; from: org.apache.cassandra.hadoop.cql3 to: org.apache.cassandra.db.marshal; from: org.apache.cassandra.hadoop.cql3 to: org.apache.cassandra.dht; from: org.apache.cassandra.hadoop.cql3 to: org.apache.cassandra.config; from: org.apache.cassandra.hadoop.cql3 to: org.apache.cassandra.io.sstable; from: org.apache.cassandra.hadoop.cql3 to: org.apache.cassandra.io.util; from: org.apache.cassandra.hadoop to: org.apache.cassandra.schema; from: org.apache.cassandra.hadoop to: org.apache.cassandra.utils; from: org.apache.cassandra.concurrent to: org.apache.cassandra.tracing; from: org.apache.cassandra.concurrent to: org.apache.cassandra.utils; from: org.apache.cassandra.concurrent to: org.apache.cassandra.utils.concurrent; from: org.apache.cassandra.concurrent to: org.apache.cassandra.service; from: org.apache.cassandra.concurrent to: org.apache.cassandra.net; from: org.apache.cassandra.db to: org.apache.cassandra.schema; from: org.apache.cassandra.db to: org.apache.cassandra.index; from: org.apache.cassandra.db to: org.apache.cassandra.net; from: org.apache.cassandra.db to: org.apache.cassandra.dht; from: org.apache.cassandra.db to: org.apache.cassandra.utils; from: org.apache.cassandra.db to: org.apache.cassandra.tracing; from: org.apache.cassandra.db to: org.apache.cassandra.db.transform; from: org.apache.cassandra.db to: org.apache.cassandra.service; from: org.apache.cassandra.db to: org.apache.cassandra.cql3; from: org.apache.cassandra.db to: org.apache.cassandra.db.marshal; from: org.apache.cassandra.db to: org.apache.cassandra.db.context; from: org.apache.cassandra.db to: org.apache.cassandra.config; from: org.apache.cassandra.db to: org.apache.cassandra.db.partitions; from: org.apache.cassandra.db to: org.apache.cassandra.db.rows; from: org.apache.cassandra.db to: org.apache.cassandra.utils.btree; from: org.apache.cassandra.db to: org.apache.cassandra.utils.concurrent; from: org.apache.cassandra.db to: org.apache.cassandra.utils.vint; from: org.apache.cassandra.db to: org.apache.cassandra.utils.memory; from: org.apache.cassandra.db to: org.apache.cassandra.io.sstable.format; from: org.apache.cassandra.db to: org.apache.cassandra.metrics; from: org.apache.cassandra.db to: org.apache.cassandra.thrift; from: org.apache.cassandra.db to: org.apache.cassandra.concurrent; from: org.apache.cassandra.db to: org.apache.cassandra.db.lifecycle; from: org.apache.cassandra.db to: org.apache.cassandra.db.view; from: org.apache.cassandra.db to: org.apache.cassandra.io.sstable.format.big; from: org.apache.cassandra.db to: org.apache.cassandra.db.commitlog; from: org.apache.cassandra.db to: org.apache.cassandra.io.util; from: org.apache.cassandra.db to: org.apache.cassandra.index.internal; from: org.apache.cassandra.db to: org.apache.cassandra.hints; from: org.apache.cassandra.db to: org.apache.cassandra.batchlog; from: org.apache.cassandra.db to: org.apache.cassandra.io.sstable; from: org.apache.cassandra.db to: org.apache.cassandra.io; from: org.apache.cassandra.db to: org.apache.cassandra.db.filter; from: org.apache.cassandra.db to: org.apache.cassandra.service.pager; from: org.apache.cassandra.db to: org.apache.cassandra.db.compaction; from: org.apache.cassandra.db to: org.apache.cassandra.service.paxos; from: org.apache.cassandra.db to: org.apache.cassandra.index.transactions; from: org.apache.cassandra.db to: org.apache.cassandra.locator; from: org.apache.cassandra.db.marshal to: org.apache.cassandra.utils; from: org.apache.cassandra.db.marshal to: org.apache.cassandra.cql3; from: org.apache.cassandra.db.marshal to: org.apache.cassandra.serializers; from: org.apache.cassandra.db.marshal to: org.apache.cassandra.db; from: org.apache.cassandra.db.marshal to: org.apache.cassandra.db.context; from: org.apache.cassandra.db.marshal to: org.apache.cassandra.transport; from: org.apache.cassandra.db.marshal to: org.apache.cassandra.config; from: org.apache.cassandra.db.marshal to: org.apache.cassandra.db.rows; from: org.apache.cassandra.db.context to: org.apache.cassandra.db.compaction; from: org.apache.cassandra.db.context to: org.apache.cassandra.db; from: org.apache.cassandra.db.columniterator to: org.apache.cassandra.io.sstable.format; from: org.apache.cassandra.db.columniterator to: org.apache.cassandra.db.filter; from: org.apache.cassandra.db.columniterator to: org.apache.cassandra.db; from: org.apache.cassandra.db.columniterator to: org.apache.cassandra.utils.btree; from: org.apache.cassandra.db.columniterator to: org.apache.cassandra.io.sstable; from: org.apache.cassandra.db.columniterator to: org.apache.cassandra.utils; from: org.apache.cassandra.db.lifecycle to: org.apache.cassandra.io.sstable.format.big; from: org.apache.cassandra.db.lifecycle to: org.apache.cassandra.utils; from: org.apache.cassandra.db.lifecycle to: org.apache.cassandra.io.util; from: org.apache.cassandra.db.lifecycle to: org.apache.cassandra.utils.concurrent; from: org.apache.cassandra.db.lifecycle to: org.apache.cassandra.db; from: org.apache.cassandra.db.lifecycle to: org.apache.cassandra.concurrent; from: org.apache.cassandra.db.lifecycle to: org.apache.cassandra.io.sstable; from: org.apache.cassandra.db.lifecycle to: org.apache.cassandra.io.sstable.format; from: org.apache.cassandra.db.lifecycle to: org.apache.cassandra.dht; from: org.apache.cassandra.db.lifecycle to: org.apache.cassandra.metrics; from: org.apache.cassandra.db.lifecycle to: org.apache.cassandra.config; from: org.apache.cassandra.db.compaction to: org.apache.cassandra.metrics; from: org.apache.cassandra.db.compaction to: org.apache.cassandra.service; from: org.apache.cassandra.db.compaction to: org.apache.cassandra.io.sstable.format; from: org.apache.cassandra.db.compaction to: org.apache.cassandra.utils.concurrent; from: org.apache.cassandra.db.compaction to: org.apache.cassandra.config; from: org.apache.cassandra.db.compaction to: org.apache.cassandra.utils; from: org.apache.cassandra.db.compaction to: org.apache.cassandra.io.sstable; from: org.apache.cassandra.db.compaction to: org.apache.cassandra.io.util; from: org.apache.cassandra.db.compaction to: org.apache.cassandra.db; from: org.apache.cassandra.db.compaction to: org.apache.cassandra.db.partitions; from: org.apache.cassandra.db.compaction to: org.apache.cassandra.db.transform; from: org.apache.cassandra.db.compaction to: org.apache.cassandra.dht; from: org.apache.cassandra.db.compaction to: org.apache.cassandra.cache; from: org.apache.cassandra.db.compaction to: org.apache.cassandra.db.lifecycle; from: org.apache.cassandra.db.compaction to: org.apache.cassandra.concurrent; from: org.apache.cassandra.db.compaction to: org.apache.cassandra.cql3; from: org.apache.cassandra.db.compaction to: org.apache.cassandra.db.marshal; from: org.apache.cassandra.db.compaction to: org.apache.cassandra.schema; from: org.apache.cassandra.db.compaction.writers to: org.apache.cassandra.db; from: org.apache.cassandra.db.compaction.writers to: org.apache.cassandra.io.sstable.format; from: org.apache.cassandra.db.compaction.writers to: org.apache.cassandra.io.sstable; from: org.apache.cassandra.db.compaction.writers to: org.apache.cassandra.utils.concurrent; from: org.apache.cassandra.db.compaction.writers to: org.apache.cassandra.db.compaction; from: org.apache.cassandra.db.rows to: org.apache.cassandra.db.marshal; from: org.apache.cassandra.db.rows to: org.apache.cassandra.utils.btree; from: org.apache.cassandra.db.rows to: org.apache.cassandra.config; from: org.apache.cassandra.db.rows to: org.apache.cassandra.db.filter; from: org.apache.cassandra.db.rows to: org.apache.cassandra.db; from: org.apache.cassandra.db.rows to: org.apache.cassandra.utils; from: org.apache.cassandra.db.rows to: org.apache.cassandra.db.context; from: org.apache.cassandra.db.rows to: org.apache.cassandra.db.transform; from: org.apache.cassandra.db.rows to: org.apache.cassandra.net; from: org.apache.cassandra.db.rows to: org.apache.cassandra.io.util; from: org.apache.cassandra.db.partitions to: org.apache.cassandra.db; from: org.apache.cassandra.db.partitions to: org.apache.cassandra.net; from: org.apache.cassandra.db.partitions to: org.apache.cassandra.config; from: org.apache.cassandra.db.partitions to: org.apache.cassandra.utils.btree; from: org.apache.cassandra.db.partitions to: org.apache.cassandra.db.filter; from: org.apache.cassandra.db.partitions to: org.apache.cassandra.utils; from: org.apache.cassandra.db.partitions to: org.apache.cassandra.db.transform; from: org.apache.cassandra.db.partitions to: org.apache.cassandra.utils.concurrent; from: org.apache.cassandra.db.partitions to: org.apache.cassandra.utils.memory; from: org.apache.cassandra.db.partitions to: org.apache.cassandra.db.rows; from: org.apache.cassandra.db.commitlog to: org.apache.cassandra.config; from: org.apache.cassandra.db.commitlog to: org.apache.cassandra.db.rows; from: org.apache.cassandra.db.commitlog to: org.apache.cassandra.utils; from: org.apache.cassandra.db.commitlog to: org.apache.cassandra.schema; from: org.apache.cassandra.db.commitlog to: org.apache.cassandra.io.util; from: org.apache.cassandra.db.commitlog to: org.apache.cassandra.concurrent; from: org.apache.cassandra.db.commitlog to: org.apache.cassandra.db; from: org.apache.cassandra.db.commitlog to: org.apache.cassandra.utils.concurrent; from: org.apache.cassandra.db.commitlog to: org.apache.cassandra.net; from: org.apache.cassandra.db.commitlog to: org.apache.cassandra.service; from: org.apache.cassandra.db.view to: org.apache.cassandra.db; from: org.apache.cassandra.db.view to: org.apache.cassandra.config; from: org.apache.cassandra.db.view to: org.apache.cassandra.utils; from: org.apache.cassandra.db.view to: org.apache.cassandra.db.compaction; from: org.apache.cassandra.db.view to: org.apache.cassandra.service; from: org.apache.cassandra.db.view to: org.apache.cassandra.concurrent; from: org.apache.cassandra.db.view to: org.apache.cassandra.db.partitions; from: org.apache.cassandra.db.view to: org.apache.cassandra.db.lifecycle; from: org.apache.cassandra.db.view to: org.apache.cassandra.cql3.statements; from: org.apache.cassandra.db.view to: org.apache.cassandra.cql3; from: org.apache.cassandra.db.filter to: org.apache.cassandra.db.rows; from: org.apache.cassandra.db.filter to: org.apache.cassandra.db.marshal; from: org.apache.cassandra.db.filter to: org.apache.cassandra.utils; from: org.apache.cassandra.db.filter to: org.apache.cassandra.db; from: org.apache.cassandra.db.filter to: org.apache.cassandra.db.transform; from: org.apache.cassandra.db.filter to: org.apache.cassandra.net; from: org.apache.cassandra.db.filter to: org.apache.cassandra.schema; from: org.apache.cassandra.db.filter to: org.apache.cassandra.config; from: org.apache.cassandra.db.filter to: org.apache.cassandra.utils.btree; from: org.apache.cassandra.db.transform to: org.apache.cassandra.utils; from: org.apache.cassandra.db.transform to: org.apache.cassandra.db; from: org.apache.cassandra.index to: org.apache.cassandra.db.compaction; from: org.apache.cassandra.index to: org.apache.cassandra.utils; from: org.apache.cassandra.index to: org.apache.cassandra.db; from: org.apache.cassandra.index to: org.apache.cassandra.concurrent; from: org.apache.cassandra.index to: org.apache.cassandra.cql3.statements; from: org.apache.cassandra.index to: org.apache.cassandra.utils.concurrent; from: org.apache.cassandra.index to: org.apache.cassandra.db.filter; from: org.apache.cassandra.index to: org.apache.cassandra.schema; from: org.apache.cassandra.index to: org.apache.cassandra.db.lifecycle; from: org.apache.cassandra.index to: org.apache.cassandra.index.internal; from: org.apache.cassandra.index to: org.apache.cassandra.tracing; from: org.apache.cassandra.index to: org.apache.cassandra.index.transactions; from: org.apache.cassandra.index.internal.composites to: org.apache.cassandra.db.marshal; from: org.apache.cassandra.index.internal.composites to: org.apache.cassandra.db.rows; from: org.apache.cassandra.index.internal.composites to: org.apache.cassandra.db; from: org.apache.cassandra.index.internal.composites to: org.apache.cassandra.db.filter; from: org.apache.cassandra.index.internal.composites to: org.apache.cassandra.utils.btree; from: org.apache.cassandra.index.internal.composites to: org.apache.cassandra.utils.concurrent; from: org.apache.cassandra.index.internal.composites to: org.apache.cassandra.db.transform; from: org.apache.cassandra.index.internal to: org.apache.cassandra.io.sstable.format; from: org.apache.cassandra.index.internal to: org.apache.cassandra.cql3.statements; from: org.apache.cassandra.index.internal to: org.apache.cassandra.db.filter; from: org.apache.cassandra.index.internal to: org.apache.cassandra.index; from: org.apache.cassandra.index.internal to: org.apache.cassandra.utils.concurrent; from: org.apache.cassandra.index.internal to: org.apache.cassandra.index.transactions; from: org.apache.cassandra.index.internal to: org.apache.cassandra.cql3; from: org.apache.cassandra.index.internal to: org.apache.cassandra.db; from: org.apache.cassandra.index.internal to: org.apache.cassandra.utils; from: org.apache.cassandra.index.internal to: org.apache.cassandra.db.compaction; from: org.apache.cassandra.index.internal to: org.apache.cassandra.config; from: org.apache.cassandra.index.internal to: org.apache.cassandra.db.partitions; from: org.apache.cassandra.index.internal to: org.apache.cassandra.db.lifecycle; from: org.apache.cassandra.index.internal to: org.apache.cassandra.utils.btree; from: org.apache.cassandra.index.internal to: org.apache.cassandra.db.rows; from: org.apache.cassandra.index.internal to: org.apache.cassandra.db.marshal; from: org.apache.cassandra.index.internal.keys to: org.apache.cassandra.config; from: org.apache.cassandra.index.internal.keys to: org.apache.cassandra.db.filter; from: org.apache.cassandra.index.internal.keys to: org.apache.cassandra.utils.concurrent; from: org.apache.cassandra.index.internal.keys to: org.apache.cassandra.db; from: org.apache.cassandra.index.internal.keys to: org.apache.cassandra.db.partitions; from: org.apache.cassandra.service to: org.apache.cassandra.utils; from: org.apache.cassandra.service to: org.apache.cassandra.config; from: org.apache.cassandra.service to: org.apache.cassandra.db.partitions; from: org.apache.cassandra.service to: org.apache.cassandra.hints; from: org.apache.cassandra.service to: org.apache.cassandra.db; from: org.apache.cassandra.service to: org.apache.cassandra.triggers; from: org.apache.cassandra.service to: org.apache.cassandra.service.paxos; from: org.apache.cassandra.service to: org.apache.cassandra.gms; from: org.apache.cassandra.service to: org.apache.cassandra.batchlog; from: org.apache.cassandra.service to: org.apache.cassandra.db.filter; from: org.apache.cassandra.service to: org.apache.cassandra.tracing; from: org.apache.cassandra.service to: org.apache.cassandra.concurrent; from: org.apache.cassandra.service to: org.apache.cassandra.db.view; from: org.apache.cassandra.service to: org.apache.cassandra.db.transform; from: org.apache.cassandra.service to: org.apache.cassandra.transport; from: org.apache.cassandra.service to: org.apache.cassandra.metrics; from: org.apache.cassandra.service to: org.apache.cassandra.utils.concurrent; from: org.apache.cassandra.service to: org.apache.cassandra.io.sstable.format.big; from: org.apache.cassandra.service to: org.apache.cassandra.db.context; from: org.apache.cassandra.service to: org.apache.cassandra.net; from: org.apache.cassandra.service to: org.apache.cassandra.schema; from: org.apache.cassandra.service to: org.apache.cassandra.db.lifecycle; from: org.apache.cassandra.service to: org.apache.cassandra.cql3; from: org.apache.cassandra.service to: org.apache.cassandra.thrift; from: org.apache.cassandra.service to: org.apache.cassandra.io.sstable; from: org.apache.cassandra.service to: org.apache.cassandra.locator; from: org.apache.cassandra.service to: org.apache.cassandra.db.compaction; from: org.apache.cassandra.service to: org.apache.cassandra.streaming; from: org.apache.cassandra.service to: org.apache.cassandra.db.commitlog; from: org.apache.cassandra.service to: org.apache.cassandra.dht; from: org.apache.cassandra.service to: org.apache.cassandra.repair; from: org.apache.cassandra.service to: org.apache.cassandra.auth; from: org.apache.cassandra.service to: org.apache.cassandra.io.util; from: org.apache.cassandra.service to: org.apache.cassandra.repair.messages; from: org.apache.cassandra.service to: org.apache.cassandra.cql3.functions; from: org.apache.cassandra.service.paxos to: org.apache.cassandra.net; from: org.apache.cassandra.service.paxos to: org.apache.cassandra.utils; from: org.apache.cassandra.service.paxos to: org.apache.cassandra.tracing; from: org.apache.cassandra.service.paxos to: org.apache.cassandra.db.partitions; from: org.apache.cassandra.service.paxos to: org.apache.cassandra.config; from: org.apache.cassandra.service.paxos to: org.apache.cassandra.db; from: org.apache.cassandra.service.paxos to: org.apache.cassandra.db.rows; from: org.apache.cassandra.service.pager to: org.apache.cassandra.db; from: org.apache.cassandra.service.pager to: org.apache.cassandra.service; from: org.apache.cassandra.service.pager to: org.apache.cassandra.transport; from: org.apache.cassandra.service.pager to: org.apache.cassandra.utils; from: org.apache.cassandra.service.pager to: org.apache.cassandra.db.marshal; from: org.apache.cassandra.service.pager to: org.apache.cassandra.net; from: org.apache.cassandra.service.pager to: org.apache.cassandra.db.filter; from: org.apache.cassandra.client to: org.apache.cassandra.hadoop; from: org.apache.cassandra.repair to: org.apache.cassandra.tracing; from: org.apache.cassandra.repair to: org.apache.cassandra.service; from: org.apache.cassandra.repair to: org.apache.cassandra.streaming; from: org.apache.cassandra.repair to: org.apache.cassandra.utils; from: org.apache.cassandra.repair to: org.apache.cassandra.db; from: org.apache.cassandra.repair to: org.apache.cassandra.net; from: org.apache.cassandra.repair to: org.apache.cassandra.dht; from: org.apache.cassandra.repair to: org.apache.cassandra.db.rows; from: org.apache.cassandra.repair to: org.apache.cassandra.concurrent; from: org.apache.cassandra.repair to: org.apache.cassandra.config; from: org.apache.cassandra.repair to: org.apache.cassandra.schema; from: org.apache.cassandra.repair to: org.apache.cassandra.cql3; from: org.apache.cassandra.repair to: org.apache.cassandra.db.compaction; from: org.apache.cassandra.repair to: org.apache.cassandra.transport.messages; from: org.apache.cassandra.repair to: org.apache.cassandra.gms; from: org.apache.cassandra.repair.messages to: org.apache.cassandra.repair; from: org.apache.cassandra.repair.messages to: org.apache.cassandra.utils; from: org.apache.cassandra.repair.messages to: org.apache.cassandra.db; from: org.apache.cassandra.repair.messages to: org.apache.cassandra.config; from: org.apache.cassandra.repair.messages to: org.apache.cassandra.net; from: org.apache.cassandra.repair.messages to: org.apache.cassandra.dht; from: org.apache.cassandra.hints to: org.apache.cassandra.service; from: org.apache.cassandra.hints to: org.apache.cassandra.gms; from: org.apache.cassandra.hints to: org.apache.cassandra.net; from: org.apache.cassandra.hints to: org.apache.cassandra.config; from: org.apache.cassandra.hints to: org.apache.cassandra.concurrent; from: org.apache.cassandra.hints to: org.apache.cassandra.metrics; from: org.apache.cassandra.hints to: org.apache.cassandra.utils; from: org.apache.cassandra.hints to: org.apache.cassandra.db; from: org.apache.cassandra.hints to: org.apache.cassandra.io.util; from: org.apache.cassandra.hints to: org.apache.cassandra.db.compaction; from: org.apache.cassandra.hints to: org.apache.cassandra.cql3; from: org.apache.cassandra.hints to: org.apache.cassandra.db.marshal; from: org.apache.cassandra.hints to: org.apache.cassandra.db.partitions; from: org.apache.cassandra.hints to: org.apache.cassandra.utils.concurrent.\n"
     ]
    }
   ],
   "source": [
    "list_Dense_structure_v_3_1_0 = util_designite.extract_list_of_architecture_smells(df_architecture_smells_v_3_1_0, util_designite.texto_padrao_Dense_structure)\n",
    "\n",
    "i = 1\n",
    "for each in list_Dense_structure_v_3_1_0:\n",
    "    print(f'{i} {each[0]}, {each[2]}')\n",
    "    i += 1"
   ]
  },
  {
   "cell_type": "code",
   "execution_count": null,
   "metadata": {},
   "outputs": [],
   "source": []
  },
  {
   "cell_type": "markdown",
   "metadata": {},
   "source": [
    "## --- Identificar os Design Smells ---"
   ]
  },
  {
   "cell_type": "markdown",
   "metadata": {},
   "source": [
    "### 1. Quais os registros correspondem a Broken Modularization?"
   ]
  },
  {
   "cell_type": "code",
   "execution_count": 30,
   "metadata": {},
   "outputs": [
    {
     "name": "stdout",
     "output_type": "stream",
     "text": [
      "1 org.apache.cassandra.metrics, StorageMetrics\n",
      "2 org.apache.cassandra.config, RequestSchedulerOptions\n",
      "3 org.apache.cassandra.config, EncryptionOptions\n",
      "4 org.apache.cassandra.thrift, Args\n"
     ]
    }
   ],
   "source": [
    "list_Broken_modularization_v_3_1_0 = util_designite.extract_list_of_design_smells(df_design_smells_v_3_1_0, 'Broken Modularization')\n",
    "\n",
    "i = 1\n",
    "for each in list_Broken_modularization_v_3_1_0:\n",
    "    print(f'{i} {each[0]}, {each[1]}')\n",
    "    i += 1"
   ]
  },
  {
   "cell_type": "markdown",
   "metadata": {},
   "source": [
    "### 2. Quais os registros correspondem a Cyclically-dependent modularization"
   ]
  },
  {
   "cell_type": "code",
   "execution_count": 31,
   "metadata": {},
   "outputs": [
    {
     "name": "stdout",
     "output_type": "stream",
     "text": [
      "1 org.apache.cassandra.metrics, CompactionMetrics\n",
      "2 org.apache.cassandra.tracing, TraceState\n",
      "3 org.apache.cassandra.locator, TokenMetadata\n",
      "4 org.apache.cassandra.net, MessagingService\n",
      "5 org.apache.cassandra.transport, Message\n",
      "6 org.apache.cassandra.transport, Connection\n",
      "7 org.apache.cassandra.transport.messages, ResultMessage\n",
      "8 org.apache.cassandra.cql3, AssignmentTestable\n",
      "9 org.apache.cassandra.cql3.restrictions, StatementRestrictions\n",
      "10 org.apache.cassandra.cql3.statements, SelectStatement\n",
      "11 org.apache.cassandra.cql3.functions, UDFunction\n",
      "12 org.apache.cassandra.cql3.selection, SelectionColumnMapping\n",
      "13 org.apache.cassandra.cache, AutoSavingCache\n",
      "14 org.apache.cassandra.config, Schema\n",
      "15 org.apache.cassandra.security, SSLFactory\n",
      "16 org.apache.cassandra.auth, AuthKeyspace\n",
      "17 org.apache.cassandra.triggers, TriggerExecutor\n",
      "18 org.apache.cassandra.dht, RangeStreamer\n",
      "19 org.apache.cassandra.io.compress, CompressionMetadata\n",
      "20 org.apache.cassandra.io.sstable, SSTable\n",
      "21 org.apache.cassandra.io.sstable.format.big, BigFormat\n",
      "22 org.apache.cassandra.io.sstable.format, SSTableReader\n",
      "23 org.apache.cassandra.io.sstable.metadata, MetadataCollector\n",
      "24 org.apache.cassandra.io.util, SegmentedFile\n",
      "25 org.apache.cassandra.io.util, FileUtils\n",
      "26 org.apache.cassandra.utils, AsymmetricOrdering\n",
      "27 org.apache.cassandra.utils, SyncUtil\n",
      "28 org.apache.cassandra.utils.memory, BufferPool\n",
      "29 org.apache.cassandra.utils.memory, MemtableAllocator\n",
      "30 org.apache.cassandra.utils.btree, BTree\n",
      "31 org.apache.cassandra.utils.concurrent, Ref\n",
      "32 org.apache.cassandra.exceptions, FunctionExecutionException\n",
      "33 org.apache.cassandra.batchlog, Batch\n",
      "34 org.apache.cassandra.streaming, StreamManager\n",
      "35 org.apache.cassandra.streaming.messages, IncomingFileMessage\n",
      "36 org.apache.cassandra.streaming.management, SessionInfoCompositeData\n",
      "37 org.apache.cassandra.thrift, ThriftServer\n",
      "38 org.apache.cassandra.gms, Gossiper\n",
      "39 org.apache.cassandra.schema, KeyspaceMetadata\n",
      "40 org.apache.cassandra.serializers, UUIDSerializer\n",
      "41 org.apache.cassandra.hadoop.cql3, CqlBulkRecordWriter\n",
      "42 org.apache.cassandra.concurrent, DebuggableThreadPoolExecutor\n",
      "43 org.apache.cassandra.db, Serializer\n",
      "44 org.apache.cassandra.db, LegacyRangeSliceCommandSerializer\n",
      "45 org.apache.cassandra.db.marshal, ByteType\n",
      "46 org.apache.cassandra.db.context, CounterContext\n",
      "47 org.apache.cassandra.db.lifecycle, LogFile\n",
      "48 org.apache.cassandra.db.compaction, CompactionInfo\n",
      "49 org.apache.cassandra.db.rows, ComplexColumnData\n",
      "50 org.apache.cassandra.db.partitions, CachedBTreePartition\n",
      "51 org.apache.cassandra.db.commitlog, CommitLogReplayer\n",
      "52 org.apache.cassandra.db.view, ViewUtils\n",
      "53 org.apache.cassandra.db.filter, ColumnSubselection\n",
      "54 org.apache.cassandra.index, SecondaryIndexManager\n",
      "55 org.apache.cassandra.index.internal, CassandraIndex\n",
      "56 org.apache.cassandra.service, StorageProxy\n",
      "57 org.apache.cassandra.service.paxos, Commit\n",
      "58 org.apache.cassandra.service.pager, QueryPager\n",
      "59 org.apache.cassandra.repair, RepairJobDesc\n",
      "60 org.apache.cassandra.repair.messages, ValidationComplete\n",
      "61 org.apache.cassandra.hints, HintsService\n"
     ]
    }
   ],
   "source": [
    "list_Cyclically_dependent_modularization_v_3_1_0 = util_designite.extract_list_of_design_smells(df_design_smells_v_3_1_0, 'Cyclically-dependent Modularization')\n",
    "\n",
    "i = 1\n",
    "for each in list_Cyclically_dependent_modularization_v_3_1_0:\n",
    "    print(f'{i} {each[0]}, {each[1]}')\n",
    "    i += 1"
   ]
  },
  {
   "cell_type": "markdown",
   "metadata": {},
   "source": [
    "### 3. Quais os registros correspondem a Hub-Like Modularization?"
   ]
  },
  {
   "cell_type": "code",
   "execution_count": 32,
   "metadata": {},
   "outputs": [
    {
     "name": "stdout",
     "output_type": "stream",
     "text": [
      "1 org.apache.cassandra.net, MessagingService\n",
      "2 org.apache.cassandra.db, SinglePartitionReadCommand\n",
      "3 org.apache.cassandra.db, LegacyLayout\n",
      "4 org.apache.cassandra.service, StorageService\n"
     ]
    }
   ],
   "source": [
    "list_Cyclically_Hub_like_modularization_v_3_1_0 = util_designite.extract_list_of_design_smells(df_design_smells_v_3_1_0, 'Hub-like Modularization',)\n",
    "\n",
    "i = 1\n",
    "for each in list_Cyclically_Hub_like_modularization_v_3_1_0:\n",
    "    print(f'{i} {each[0]}, {each[1]}')\n",
    "    i += 1"
   ]
  },
  {
   "cell_type": "markdown",
   "metadata": {},
   "source": [
    "### 4. Quais os registros correspondem a Insufficient Modularization?"
   ]
  },
  {
   "cell_type": "code",
   "execution_count": 33,
   "metadata": {},
   "outputs": [
    {
     "name": "stdout",
     "output_type": "stream",
     "text": [
      "1 org.apache.cassandra.metrics, TableMetrics\n",
      "2 org.apache.cassandra.metrics, CassandraMetricsRegistry\n",
      "3 org.apache.cassandra.metrics, KeyspaceMetrics\n",
      "4 org.apache.cassandra.tracing, Tracing\n",
      "5 org.apache.cassandra.locator, TokenMetadata\n",
      "6 org.apache.cassandra.locator, DynamicEndpointSnitch\n",
      "7 org.apache.cassandra.tools, NodeProbe\n",
      "8 org.apache.cassandra.net, MessagingService\n",
      "9 org.apache.cassandra.transport, Message\n",
      "10 org.apache.cassandra.transport, CBUtil\n",
      "11 org.apache.cassandra.transport, Event\n",
      "12 org.apache.cassandra.transport, Server\n",
      "13 org.apache.cassandra.transport, EventNotifier\n",
      "14 org.apache.cassandra.transport, SimpleClient\n",
      "15 org.apache.cassandra.transport.messages, ResultMessage\n",
      "16 org.apache.cassandra.cql3, Sets\n",
      "17 org.apache.cassandra.cql3, Maps\n",
      "18 org.apache.cassandra.cql3, Tuples\n",
      "19 org.apache.cassandra.cql3, CQL3Type\n",
      "20 org.apache.cassandra.cql3, Raw\n",
      "21 org.apache.cassandra.cql3, Json\n",
      "22 org.apache.cassandra.cql3, Operation\n",
      "23 org.apache.cassandra.cql3, QueryProcessor\n",
      "24 org.apache.cassandra.cql3, Lists\n",
      "25 org.apache.cassandra.cql3, UntypedResultSet\n",
      "26 org.apache.cassandra.cql3, Row\n",
      "27 org.apache.cassandra.cql3, QueryOptions\n",
      "28 org.apache.cassandra.cql3, ResultSet\n",
      "29 org.apache.cassandra.cql3, ColumnCondition\n",
      "30 org.apache.cassandra.cql3, ColumnIdentifier\n",
      "31 org.apache.cassandra.cql3, Constants\n",
      "32 org.apache.cassandra.cql3.restrictions, StatementRestrictions\n",
      "33 org.apache.cassandra.cql3.restrictions, MultiColumnRestriction\n",
      "34 org.apache.cassandra.cql3.restrictions, TokenRestriction\n",
      "35 org.apache.cassandra.cql3.restrictions, PrimaryKeyRestrictionSet\n",
      "36 org.apache.cassandra.cql3.restrictions, SingleColumnRestriction\n",
      "37 org.apache.cassandra.cql3.restrictions, ForwardingPrimaryKeyRestrictions\n",
      "38 org.apache.cassandra.cql3.statements, ModificationStatement\n",
      "39 org.apache.cassandra.cql3.statements, SelectStatement\n",
      "40 org.apache.cassandra.cql3.functions, UDFunction\n",
      "41 org.apache.cassandra.cql3.functions, AggregateFcts\n",
      "42 org.apache.cassandra.cql3.selection, Selection\n",
      "43 org.apache.cassandra.cql3.selection, Selectable\n",
      "44 org.apache.cassandra.cache, OHCProvider\n",
      "45 org.apache.cassandra.config, Schema\n",
      "46 org.apache.cassandra.config, DatabaseDescriptor\n",
      "47 org.apache.cassandra.config, CFMetaData\n",
      "48 org.apache.cassandra.config, ColumnDefinition\n",
      "49 org.apache.cassandra.auth, CassandraRoleManager\n",
      "50 org.apache.cassandra.dht, ByteOrderedPartitioner\n",
      "51 org.apache.cassandra.dht, Murmur3Partitioner\n",
      "52 org.apache.cassandra.dht, Range\n",
      "53 org.apache.cassandra.dht, LocalPartitioner\n",
      "54 org.apache.cassandra.dht, Token\n",
      "55 org.apache.cassandra.dht, AbstractBounds\n",
      "56 org.apache.cassandra.dht.tokenallocator, ReplicationAwareTokenAllocator\n",
      "57 org.apache.cassandra.io.compress, CompressionMetadata\n",
      "58 org.apache.cassandra.io.sstable, Descriptor\n",
      "59 org.apache.cassandra.io.sstable.format.big, BigTableScanner\n",
      "60 org.apache.cassandra.io.sstable.format.big, BigTableWriter\n",
      "61 org.apache.cassandra.io.sstable.format.big, BigFormat\n",
      "62 org.apache.cassandra.io.sstable.format, SSTableReader\n",
      "63 org.apache.cassandra.io.sstable.format, SSTableWriter\n",
      "64 org.apache.cassandra.io.sstable.format, Version\n",
      "65 org.apache.cassandra.io.sstable.metadata, MetadataCollector\n",
      "66 org.apache.cassandra.io.util, SegmentedFile\n",
      "67 org.apache.cassandra.io.util, SequentialWriter\n",
      "68 org.apache.cassandra.io.util, FileUtils\n",
      "69 org.apache.cassandra.io.util, RandomAccessReader\n",
      "70 org.apache.cassandra.io.util, Memory\n",
      "71 org.apache.cassandra.io.util, RebufferingInputStream\n",
      "72 org.apache.cassandra.io.util, BufferedDataOutputStreamPlus\n",
      "73 org.apache.cassandra.utils, ByteBufferUtil\n",
      "74 org.apache.cassandra.utils, MerkleTree\n",
      "75 org.apache.cassandra.utils, EstimatedHistogram\n",
      "76 org.apache.cassandra.utils, FBUtilities\n",
      "77 org.apache.cassandra.utils, NoSpamLogger\n",
      "78 org.apache.cassandra.utils, FastByteOperations\n",
      "79 org.apache.cassandra.utils, MerkleTrees\n",
      "80 org.apache.cassandra.utils, CoalescingStrategies\n",
      "81 org.apache.cassandra.utils.memory, MemoryUtil\n",
      "82 org.apache.cassandra.utils.memory, BufferPool\n",
      "83 org.apache.cassandra.utils.memory, MemtableAllocator\n",
      "84 org.apache.cassandra.utils.obs, OpenBitSet\n",
      "85 org.apache.cassandra.utils.btree, BTree\n",
      "86 org.apache.cassandra.utils.btree, BTreeSet\n",
      "87 org.apache.cassandra.utils.concurrent, Ref\n",
      "88 org.apache.cassandra.utils.concurrent, WaitQueue\n",
      "89 org.apache.cassandra.batchlog, BatchlogManager\n",
      "90 org.apache.cassandra.streaming, StreamCoordinator\n",
      "91 org.apache.cassandra.streaming, StreamSession\n",
      "92 org.apache.cassandra.thrift, CassandraServer\n",
      "93 org.apache.cassandra.thrift, ThriftValidation\n",
      "94 org.apache.cassandra.thrift, ThriftConversion\n",
      "95 org.apache.cassandra.gms, Gossiper\n",
      "96 org.apache.cassandra.gms, VersionedValue\n",
      "97 org.apache.cassandra.gms, VersionedValueFactory\n",
      "98 org.apache.cassandra.schema, Functions\n",
      "99 org.apache.cassandra.schema, TableParams\n",
      "100 org.apache.cassandra.schema, SchemaKeyspace\n",
      "101 org.apache.cassandra.schema, LegacySchemaMigrator\n",
      "102 org.apache.cassandra.schema, CompressionParams\n",
      "103 org.apache.cassandra.hadoop.cql3, CqlConfigHelper\n",
      "104 org.apache.cassandra.hadoop.cql3, CqlRecordReader\n",
      "105 org.apache.cassandra.hadoop.cql3, WrappedRow\n",
      "106 org.apache.cassandra.hadoop.cql3, CqlBulkOutputFormat\n",
      "107 org.apache.cassandra.hadoop, ConfigHelper\n",
      "108 org.apache.cassandra.concurrent, AbstractTracingAwareExecutorService\n",
      "109 org.apache.cassandra.db, ReadCommand\n",
      "110 org.apache.cassandra.db, Mutation\n",
      "111 org.apache.cassandra.db, RangeTombstoneList\n",
      "112 org.apache.cassandra.db, ReadResponse\n",
      "113 org.apache.cassandra.db, SinglePartitionReadCommand\n",
      "114 org.apache.cassandra.db, PartitionColumns\n",
      "115 org.apache.cassandra.db, MutableDeletionInfo\n",
      "116 org.apache.cassandra.db, Slices\n",
      "117 org.apache.cassandra.db, ArrayBackedSlices\n",
      "118 org.apache.cassandra.db, ColumnFamilyStore\n",
      "119 org.apache.cassandra.db, Memtable\n",
      "120 org.apache.cassandra.db, AbstractReadCommandBuilder\n",
      "121 org.apache.cassandra.db, Columns\n",
      "122 org.apache.cassandra.db, ClusteringPrefix\n",
      "123 org.apache.cassandra.db, EmptyIterators\n",
      "124 org.apache.cassandra.db, Slice\n",
      "125 org.apache.cassandra.db, Bound\n",
      "126 org.apache.cassandra.db, CBuilder\n",
      "127 org.apache.cassandra.db, ColumnFamilyStoreMBean\n",
      "128 org.apache.cassandra.db, RowUpdateBuilder\n",
      "129 org.apache.cassandra.db, DataRange\n",
      "130 org.apache.cassandra.db, LegacyLayout\n",
      "131 org.apache.cassandra.db, Directories\n",
      "132 org.apache.cassandra.db, LivenessInfo\n",
      "133 org.apache.cassandra.db, SystemKeyspace\n",
      "134 org.apache.cassandra.db, RangeTombstone\n",
      "135 org.apache.cassandra.db, Keyspace\n",
      "136 org.apache.cassandra.db, UnfilteredDeserializer\n",
      "137 org.apache.cassandra.db, OldFormatDeserializer\n",
      "138 org.apache.cassandra.db, SerializationHeader\n",
      "139 org.apache.cassandra.db.marshal, AbstractType\n",
      "140 org.apache.cassandra.db.marshal, CompositeType\n",
      "141 org.apache.cassandra.db.marshal, TupleType\n",
      "142 org.apache.cassandra.db.marshal, CollectionType\n",
      "143 org.apache.cassandra.db.context, CounterContext\n",
      "144 org.apache.cassandra.db.columniterator, AbstractSSTableIterator\n",
      "145 org.apache.cassandra.db.lifecycle, LogFile\n",
      "146 org.apache.cassandra.db.lifecycle, LogRecord\n",
      "147 org.apache.cassandra.db.lifecycle, LogTransaction\n",
      "148 org.apache.cassandra.db.lifecycle, View\n",
      "149 org.apache.cassandra.db.lifecycle, Tracker\n",
      "150 org.apache.cassandra.db.lifecycle, LifecycleTransaction\n",
      "151 org.apache.cassandra.db.compaction, CompactionStrategyManager\n",
      "152 org.apache.cassandra.db.compaction, LeveledManifest\n",
      "153 org.apache.cassandra.db.compaction, LeveledCompactionStrategy\n",
      "154 org.apache.cassandra.db.compaction, AbstractCompactionStrategy\n",
      "155 org.apache.cassandra.db.compaction, CompactionManager\n",
      "156 org.apache.cassandra.db.rows, UnfilteredSerializer\n",
      "157 org.apache.cassandra.db.rows, ComplexColumnData\n",
      "158 org.apache.cassandra.db.rows, BufferCell\n",
      "159 org.apache.cassandra.db.rows, Row\n",
      "160 org.apache.cassandra.db.rows, BTreeRow\n",
      "161 org.apache.cassandra.db.rows, RangeTombstoneBoundaryMarker\n",
      "162 org.apache.cassandra.db.rows, CellPath\n",
      "163 org.apache.cassandra.db.rows, UnfilteredRowIterators\n",
      "164 org.apache.cassandra.db.partitions, AbstractBTreePartition\n",
      "165 org.apache.cassandra.db.partitions, UnfilteredPartitionIterators\n",
      "166 org.apache.cassandra.db.partitions, PartitionUpdate\n",
      "167 org.apache.cassandra.db.commitlog, CommitLogSegment\n",
      "168 org.apache.cassandra.db.commitlog, CommitLog\n",
      "169 org.apache.cassandra.db.view, TemporalRow\n",
      "170 org.apache.cassandra.db.view, View\n",
      "171 org.apache.cassandra.db.filter, DataLimits\n",
      "172 org.apache.cassandra.db.filter, RowFilter\n",
      "173 org.apache.cassandra.db.filter, ColumnFilter\n",
      "174 org.apache.cassandra.index, SecondaryIndexManager\n",
      "175 org.apache.cassandra.index, Index\n",
      "176 org.apache.cassandra.index.internal, CassandraIndex\n",
      "177 org.apache.cassandra.service, StorageProxy\n",
      "178 org.apache.cassandra.service, CacheService\n",
      "179 org.apache.cassandra.service, StorageServiceMBean\n",
      "180 org.apache.cassandra.service, StorageProxyMBean\n",
      "181 org.apache.cassandra.service, MigrationManager\n",
      "182 org.apache.cassandra.service, ClientState\n",
      "183 org.apache.cassandra.service, ActiveRepairService\n",
      "184 org.apache.cassandra.service, StorageService\n",
      "185 org.apache.cassandra.service, CassandraDaemon\n",
      "186 org.apache.cassandra.repair, RepairSession\n"
     ]
    }
   ],
   "source": [
    "list_Insufficient_modularization_v_3_1_0 = util_designite.extract_list_of_design_smells(df_design_smells_v_3_1_0, 'Insufficient Modularization')\n",
    "\n",
    "i = 1\n",
    "for each in list_Insufficient_modularization_v_3_1_0:\n",
    "    print(f'{i} {each[0]}, {each[1]}')\n",
    "    i += 1"
   ]
  },
  {
   "cell_type": "markdown",
   "metadata": {},
   "source": [
    "## --- Registros referentes aos Arquivos mais modificados na versão 3.1 ---"
   ]
  },
  {
   "cell_type": "code",
   "execution_count": 34,
   "metadata": {},
   "outputs": [
    {
     "data": {
      "text/html": [
       "<div>\n",
       "<style scoped>\n",
       "    .dataframe tbody tr th:only-of-type {\n",
       "        vertical-align: middle;\n",
       "    }\n",
       "\n",
       "    .dataframe tbody tr th {\n",
       "        vertical-align: top;\n",
       "    }\n",
       "\n",
       "    .dataframe thead th {\n",
       "        text-align: right;\n",
       "    }\n",
       "</style>\n",
       "<table border=\"1\" class=\"dataframe\">\n",
       "  <thead>\n",
       "    <tr style=\"text-align: right;\">\n",
       "      <th></th>\n",
       "      <th>Unnamed: 0</th>\n",
       "      <th>index</th>\n",
       "      <th>name</th>\n",
       "      <th>hash</th>\n",
       "      <th>date</th>\n",
       "      <th>added_lines</th>\n",
       "      <th>deleted_lines</th>\n",
       "      <th>modifications</th>\n",
       "      <th>old_path</th>\n",
       "      <th>new_path</th>\n",
       "      <th>change_type</th>\n",
       "      <th>nloc</th>\n",
       "      <th>complexity</th>\n",
       "    </tr>\n",
       "  </thead>\n",
       "  <tbody>\n",
       "    <tr>\n",
       "      <th>71</th>\n",
       "      <td>71</td>\n",
       "      <td>71</td>\n",
       "      <td>AbstractColumnFamilyInputFormat.java</td>\n",
       "      <td>177f607057a9d4c4b3746cec51e8e283938a5363</td>\n",
       "      <td>2015-11-10 14:32:55</td>\n",
       "      <td>38</td>\n",
       "      <td>36</td>\n",
       "      <td>74</td>\n",
       "      <td>src/java/org/apache/cassandra/hadoop/AbstractC...</td>\n",
       "      <td>src/java/org/apache/cassandra/hadoop/AbstractC...</td>\n",
       "      <td>MODIFY</td>\n",
       "      <td>228</td>\n",
       "      <td>36</td>\n",
       "    </tr>\n",
       "    <tr>\n",
       "      <th>72</th>\n",
       "      <td>72</td>\n",
       "      <td>72</td>\n",
       "      <td>AbstractColumnFamilyInputFormat.java</td>\n",
       "      <td>9fc957cf3097e54ccd72e51b2d0650dc3e83eae0</td>\n",
       "      <td>2015-11-10 16:25:39</td>\n",
       "      <td>1</td>\n",
       "      <td>1</td>\n",
       "      <td>2</td>\n",
       "      <td>src/java/org/apache/cassandra/hadoop/AbstractC...</td>\n",
       "      <td>src/java/org/apache/cassandra/hadoop/AbstractC...</td>\n",
       "      <td>MODIFY</td>\n",
       "      <td>228</td>\n",
       "      <td>36</td>\n",
       "    </tr>\n",
       "    <tr>\n",
       "      <th>73</th>\n",
       "      <td>73</td>\n",
       "      <td>73</td>\n",
       "      <td>AbstractColumnFamilyInputFormat.java</td>\n",
       "      <td>f8fc0311b65b3d82737352f3d01483c0334a6867</td>\n",
       "      <td>2015-11-27 11:40:16</td>\n",
       "      <td>2</td>\n",
       "      <td>2</td>\n",
       "      <td>4</td>\n",
       "      <td>src/java/org/apache/cassandra/hadoop/AbstractC...</td>\n",
       "      <td>src/java/org/apache/cassandra/hadoop/AbstractC...</td>\n",
       "      <td>MODIFY</td>\n",
       "      <td>228</td>\n",
       "      <td>36</td>\n",
       "    </tr>\n",
       "  </tbody>\n",
       "</table>\n",
       "</div>"
      ],
      "text/plain": [
       "    Unnamed: 0  index                                  name  \\\n",
       "71          71     71  AbstractColumnFamilyInputFormat.java   \n",
       "72          72     72  AbstractColumnFamilyInputFormat.java   \n",
       "73          73     73  AbstractColumnFamilyInputFormat.java   \n",
       "\n",
       "                                        hash                 date  \\\n",
       "71  177f607057a9d4c4b3746cec51e8e283938a5363  2015-11-10 14:32:55   \n",
       "72  9fc957cf3097e54ccd72e51b2d0650dc3e83eae0  2015-11-10 16:25:39   \n",
       "73  f8fc0311b65b3d82737352f3d01483c0334a6867  2015-11-27 11:40:16   \n",
       "\n",
       "    added_lines  deleted_lines  modifications  \\\n",
       "71           38             36             74   \n",
       "72            1              1              2   \n",
       "73            2              2              4   \n",
       "\n",
       "                                             old_path  \\\n",
       "71  src/java/org/apache/cassandra/hadoop/AbstractC...   \n",
       "72  src/java/org/apache/cassandra/hadoop/AbstractC...   \n",
       "73  src/java/org/apache/cassandra/hadoop/AbstractC...   \n",
       "\n",
       "                                             new_path change_type  nloc  \\\n",
       "71  src/java/org/apache/cassandra/hadoop/AbstractC...      MODIFY   228   \n",
       "72  src/java/org/apache/cassandra/hadoop/AbstractC...      MODIFY   228   \n",
       "73  src/java/org/apache/cassandra/hadoop/AbstractC...      MODIFY   228   \n",
       "\n",
       "    complexity  \n",
       "71          36  \n",
       "72          36  \n",
       "73          36  "
      ]
     },
     "execution_count": 34,
     "metadata": {},
     "output_type": "execute_result"
    }
   ],
   "source": [
    "df_arquivos_modificados_v_3_1_0 = util_designite.init_df_100_arquivos_mais_modificados(versao='3.1.0')\n",
    "df_arquivos_modificados_v_3_1_0.sort_values(['name', 'date', 'hash']).head(3)"
   ]
  },
  {
   "cell_type": "code",
   "execution_count": 35,
   "metadata": {},
   "outputs": [
    {
     "name": "stdout",
     "output_type": "stream",
     "text": [
      "Fragmento...\n",
      "AbstractColumnFamilyInputFormat.java [('177f607057a9d4c4b3746cec51e8e283938a5363', '2015-11-10 14:32:55', 74, 228, 36), ('9fc957cf3097e54ccd72e51b2d0650dc3e83eae0', '2015-11-10 16:25:39', 2, 228, 36), ('f8fc0311b65b3d82737352f3d01483c0334a6867', '2015-11-27 11:40:16', 4, 228, 36)]\n",
      "ActiveRepairService.java [('99b82dbb43277035562e7b82bb9bdebd84510e96', '2015-11-10 13:08:05', 2, 364, 59), ('1538c0921444d7969ebd07ca1abda9a7e40e4c73', '2015-12-02 08:41:11', 17, 367, 56)]\n",
      "AggregationTest.java [('c0480d8bbddf111e4cd7c67ef7c0daeec3ece2dc', '2015-11-16 17:39:13', 2, 1377, 38)]\n",
      "AlterTableStatement.java [('5414950d6a42a2f7d41dec6427cbf210dd7d99af', '2015-11-11 18:45:50', 3, 230, 60), ('2cbd776250553a4e5d3dbb4dc286a3ceb7724158', '2015-11-02 13:18:59', 9, 308, 78)]\n",
      "AlterTest.java [('b05fe4ffee8f1c457a79013c2ddc88abcdadc6bb', '2015-11-12 20:53:42', 17, 150, 14), ('5414950d6a42a2f7d41dec6427cbf210dd7d99af', '2015-11-11 18:45:50', 8, 143, 14)]\n",
      "AuditTrigger.java [('fb463c79e0cb63114a2f220182e7c7ed3e0f4205', '2015-10-20 11:18:37', 46, 46, 3)]\n",
      "Bounds.java [('1c3ff9242a0bfc5c544c69f68ee7b17a464a5ab3', '2015-11-11 13:26:22', 62, 128, 34)]\n",
      "BoundsTest.java [('1c3ff9242a0bfc5c544c69f68ee7b17a464a5ab3', '2015-11-11 13:26:22', 61, 31, 2)]\n",
      "BufferedDataOutputStreamPlus.java [('a320737b18c19e3ec59035e5e487f2af1dcd0172', '2015-10-27 12:19:14', 20, 227, 48), ('f7aaea013e98178064103d9b4cd39f66bad083f3', '2015-12-01 12:33:46', 22, 266, 61)]\n",
      "CASClientRequestMetrics.java [('c8136b98f20f5bb93bae81444ac4ad9247d9042a', '2015-12-04 13:18:10', 2, 23, 2), ('5aa19cb68a7cbd95683db92a0c4bbcf47d4dcb23', '2015-12-04 13:19:07', 2, 23, 2)]\n",
      "...\n"
     ]
    }
   ],
   "source": [
    "dictionary_filename_modifications_v_3_1_0 = util_designite.generate_dictionary_filename_modifications(df_arquivos_modificados_v_3_1_0)\n",
    "\n",
    "print('Fragmento...')\n",
    "\n",
    "i = 0\n",
    "for k, v in dictionary_filename_modifications_v_3_1_0.items():\n",
    "    if i < 10:\n",
    "        print(k, v)\n",
    "        i += 1\n",
    "    else:\n",
    "        break\n",
    "print('...')"
   ]
  },
  {
   "cell_type": "markdown",
   "metadata": {},
   "source": [
    "### Exemplo: detalhes das modificacoes do arquivo StorageService.java"
   ]
  },
  {
   "cell_type": "code",
   "execution_count": 36,
   "metadata": {},
   "outputs": [
    {
     "name": "stdout",
     "output_type": "stream",
     "text": [
      "[('6bad57fc3cf967838a220d8402db37ed9a5b3b4e', '2015-11-11 15:02:26', 65, 3306, 717), ('6bb6bb005197c33fa94026d472ff78d4f36613cc', '2015-11-11 15:04:25', 65, 3302, 703), ('9a90e9894e9e079058876cf2b16a47d29ba0a32a', '2015-11-11 15:05:35', 61, 3344, 718), ('ecd66de2bdf2ecb88c4276a4616a76f5ec2921bb', '2015-11-10 17:22:11', 6, 3311, 718), ('a8e8a67306c0b26b8fe9c74a1fb00bacfa224cf7', '2015-10-29 12:36:32', 3, 3314, 719), ('99b82dbb43277035562e7b82bb9bdebd84510e96', '2015-11-10 13:08:05', 9, 3311, 705), ('ae315b5ec944571342146867c51b2ceb50f3845e', '2015-11-16 15:48:33', 9, 3351, 720), ('7650fc196341bd673626054593f2ce6e895d7783', '2015-11-27 13:49:15', 32, 3333, 726), ('51753263a4c4d50c5bbe7bb80636cca5b6458ecf', '2015-12-01 10:41:05', 14, 3333, 726), ('15f03ab446854cf4d2999c3785d145c89bc3a3e4', '2015-11-25 16:45:02', 19, 3319, 710)]\n"
     ]
    }
   ],
   "source": [
    "print(dictionary_filename_modifications_v_3_1_0['StorageService.java'])"
   ]
  },
  {
   "cell_type": "code",
   "execution_count": 37,
   "metadata": {},
   "outputs": [],
   "source": [
    "df_x_tempo_modifications = util_designite.generate_df_file_tempo_modifications('StorageService.java', dictionary_filename_modifications_v_3_1_0)\n",
    "df_x_tempo_modifications = df_x_tempo_modifications.sort_values(['tempo'])\n",
    "\n",
    "df_x_tempo_loc = util_designite.generate_df_file_tempo_loc('StorageService.java', dictionary_filename_modifications_v_3_1_0)\n",
    "df_x_tempo_loc = df_x_tempo_loc.sort_values(['tempo'])\n",
    "\n",
    "df_x_tempo_complexidade = util_designite.generate_df_file_tempo_complexidade('StorageService.java', dictionary_filename_modifications_v_3_1_0)\n",
    "df_x_tempo_complexidade = df_x_tempo_complexidade.sort_values(['tempo'])"
   ]
  },
  {
   "cell_type": "code",
   "execution_count": 38,
   "metadata": {},
   "outputs": [
    {
     "name": "stderr",
     "output_type": "stream",
     "text": [
      "/Library/Frameworks/Python.framework/Versions/3.6/lib/python3.6/site-packages/pandas/plotting/_core.py:396: UserWarning: FixedFormatter should only be used together with FixedLocator\n",
      "  ax.set_xticklabels(xticklabels)\n",
      "/Library/Frameworks/Python.framework/Versions/3.6/lib/python3.6/site-packages/pandas/plotting/_core.py:396: UserWarning: FixedFormatter should only be used together with FixedLocator\n",
      "  ax.set_xticklabels(xticklabels)\n",
      "/Library/Frameworks/Python.framework/Versions/3.6/lib/python3.6/site-packages/pandas/plotting/_core.py:396: UserWarning: FixedFormatter should only be used together with FixedLocator\n",
      "  ax.set_xticklabels(xticklabels)\n"
     ]
    },
    {
     "data": {
      "text/plain": [
       "<AxesSubplot:xlabel='tempo'>"
      ]
     },
     "execution_count": 38,
     "metadata": {},
     "output_type": "execute_result"
    },
    {
     "data": {
      "image/png": "[encoded data removed]",
      "text/plain": [
       "<Figure size 432x288 with 1 Axes>"
      ]
     },
     "metadata": {
      "needs_background": "light"
     },
     "output_type": "display_data"
    },
    {
     "data": {
      "image/png": "[encoded data removed]",
      "text/plain": [
       "<Figure size 432x288 with 1 Axes>"
      ]
     },
     "metadata": {
      "needs_background": "light"
     },
     "output_type": "display_data"
    },
    {
     "data": {
      "image/png": "[encoded data removed]",
      "text/plain": [
       "<Figure size 432x288 with 1 Axes>"
      ]
     },
     "metadata": {
      "needs_background": "light"
     },
     "output_type": "display_data"
    }
   ],
   "source": [
    "df_x_tempo_modifications.plot('tempo', 'modifications')\n",
    "df_x_tempo_loc.plot('tempo', 'loc')\n",
    "df_x_tempo_complexidade.plot('tempo', 'complexidade')"
   ]
  },
  {
   "cell_type": "markdown",
   "metadata": {},
   "source": [
    "### Pega os 100 arquivos mais modificados na versão analisada"
   ]
  },
  {
   "cell_type": "code",
   "execution_count": 39,
   "metadata": {},
   "outputs": [
    {
     "data": {
      "text/html": [
       "<div>\n",
       "<style scoped>\n",
       "    .dataframe tbody tr th:only-of-type {\n",
       "        vertical-align: middle;\n",
       "    }\n",
       "\n",
       "    .dataframe tbody tr th {\n",
       "        vertical-align: top;\n",
       "    }\n",
       "\n",
       "    .dataframe thead th {\n",
       "        text-align: right;\n",
       "    }\n",
       "</style>\n",
       "<table border=\"1\" class=\"dataframe\">\n",
       "  <thead>\n",
       "    <tr style=\"text-align: right;\">\n",
       "      <th></th>\n",
       "      <th>file</th>\n",
       "      <th>modifications</th>\n",
       "    </tr>\n",
       "  </thead>\n",
       "  <tbody>\n",
       "    <tr>\n",
       "      <th>0</th>\n",
       "      <td>CHANGES.txt</td>\n",
       "      <td>69</td>\n",
       "    </tr>\n",
       "    <tr>\n",
       "      <th>1</th>\n",
       "      <td>build.xml</td>\n",
       "      <td>11</td>\n",
       "    </tr>\n",
       "    <tr>\n",
       "      <th>2</th>\n",
       "      <td>StorageService.java</td>\n",
       "      <td>10</td>\n",
       "    </tr>\n",
       "    <tr>\n",
       "      <th>3</th>\n",
       "      <td>NEWS.txt</td>\n",
       "      <td>8</td>\n",
       "    </tr>\n",
       "    <tr>\n",
       "      <th>4</th>\n",
       "      <td>ColumnFamilyStore.java</td>\n",
       "      <td>7</td>\n",
       "    </tr>\n",
       "    <tr>\n",
       "      <th>5</th>\n",
       "      <td>Gossiper.java</td>\n",
       "      <td>7</td>\n",
       "    </tr>\n",
       "    <tr>\n",
       "      <th>6</th>\n",
       "      <td>RowCacheTest.java</td>\n",
       "      <td>6</td>\n",
       "    </tr>\n",
       "    <tr>\n",
       "      <th>7</th>\n",
       "      <td>StorageProxy.java</td>\n",
       "      <td>6</td>\n",
       "    </tr>\n",
       "    <tr>\n",
       "      <th>8</th>\n",
       "      <td>changelog</td>\n",
       "      <td>5</td>\n",
       "    </tr>\n",
       "    <tr>\n",
       "      <th>14</th>\n",
       "      <td>SecondaryIndexTest.java</td>\n",
       "      <td>4</td>\n",
       "    </tr>\n",
       "  </tbody>\n",
       "</table>\n",
       "</div>"
      ],
      "text/plain": [
       "                       file  modifications\n",
       "0               CHANGES.txt             69\n",
       "1                 build.xml             11\n",
       "2       StorageService.java             10\n",
       "3                  NEWS.txt              8\n",
       "4    ColumnFamilyStore.java              7\n",
       "5             Gossiper.java              7\n",
       "6         RowCacheTest.java              6\n",
       "7         StorageProxy.java              6\n",
       "8                 changelog              5\n",
       "14  SecondaryIndexTest.java              4"
      ]
     },
     "execution_count": 39,
     "metadata": {},
     "output_type": "execute_result"
    }
   ],
   "source": [
    "df_100_arquivos_mais_modificados = pd.read_csv(filepath_or_buffer=util_designite.PATH_ARQUIVOS_MODIFICADOS_V_3_1_0 + '/' + 'pega_100_arquivos_mais_modificados.csv', sep=',', encoding='utf-8')\n",
    "df_100_arquivos_mais_modificados.sort_values(by=['modifications'], ascending=False, inplace=True)\n",
    "df_100_arquivos_mais_modificados.head(10)"
   ]
  },
  {
   "cell_type": "code",
   "execution_count": 40,
   "metadata": {},
   "outputs": [
    {
     "name": "stdout",
     "output_type": "stream",
     "text": [
      "['CHANGES.txt', 'build.xml', 'StorageService.java', 'NEWS.txt', 'ColumnFamilyStore.java', 'Gossiper.java', 'RowCacheTest.java', 'StorageProxy.java', 'changelog', 'SecondaryIndexTest.java', 'SystemKeyspace.java', 'cqlsh.py', 'MigrationManager.java', 'cqlsh', 'NodeProbe.java', 'SecondaryIndexManager.java', 'StreamReader.java', 'SSTableRewriter.java', 'CompactionManager.java', 'GoogleCloudSnitchTest.java', 'QueryProcessor.java', 'cql3handling.py', 'CQLTester.java', 'CompressionMetadata.java', 'StreamReceiveTask.java', 'EC2SnitchTest.java', 'EndpointStateTest.java', 'VersionedValue.java', 'FailureDetector.java', 'EndpointState.java', 'AbstractColumnFamilyInputFormat.java', 'CompactionController.java', 'CloudstackSnitchTest.java', 'cassandra-driver-internal-only-3.0.0-6af642d.zip', 'TpStats.java', 'test_cqlsh_output.py', 'BufferedDataOutputStreamPlus.java', 'DataOutputBuffer.java', 'DataOutputBufferFixed.java', 'SafeMemoryWriter.java', 'DataOutputTest.java', 'ThreadPoolMetrics.java', 'CassandraMetricsRegistry.java', 'StatusLogger.java', 'CASClientRequestMetrics.java', 'EstimatedHistogramReservoir.java', 'KeyspaceMetrics.java', 'EstimatedHistogram.java', 'EstimatedHistogramTest.java', 'CassandraDaemon.java', 'StartupChecks.java', 'test_cqlsh_completion.py', 'PropertyFileSnitch.java', 'Schema.java', 'CompressedInputStreamTest.java', 'helptopics.py', 'CompactionsPurgeTest.java', 'CQLSSTableWriterTest.java', 'CqlNativeStorage.java', 'StorageServiceMBean.java', 'AlterTest.java', 'ActiveRepairService.java', 'AlterTableStatement.java', 'CqlRecordWriter.java', 'formatting.py', 'KeysSearcher.java', 'Json.java', 'QueryOptions.java', 'DropTypeStatement.java', 'CassandraIndexTest.java', 'CompressedStreamReader.java', 'YamlFileNetworkTopologySnitch.java', 'RepairOption.java', 'LogFile.java', 'LogTransaction.java', 'CustomIndexTest.java', 'AggregationTest.java', 'StorageServiceServerTest.java', 'RandomAccessReader.java', 'RepairOptionTest.java', 'SchemaLoader.java', 'FileMessageHeader.java', 'IncomingFileMessage.java', 'HintedHandOffManager.java', 'HintedHandOffTest.java', 'AuditTrigger.properties', 'SimpleDateType.java', 'NodeTool.java', 'BoundsTest.java', 'CounterCacheTest.java', 'Bounds.java', 'CLibraryTest.java', 'CLibrary.java', 'AuditTrigger.java', 'README.txt', 'CQLSSTableWriter.java', 'MessagingService.java', 'JavaSourceUDFFactory.java', 'OutgoingFileMessage.java']\n"
     ]
    }
   ],
   "source": [
    "lista_100_arquivos_mais_moficads = []\n",
    "\n",
    "for index, row in df_100_arquivos_mais_modificados.iterrows():\n",
    "    lista_100_arquivos_mais_moficads.append(row['file'])\n",
    "\n",
    "print(lista_100_arquivos_mais_moficads)"
   ]
  },
  {
   "cell_type": "code",
   "execution_count": 45,
   "metadata": {},
   "outputs": [
    {
     "name": "stdout",
     "output_type": "stream",
     "text": [
      "Fragmento...\n",
      "StorageService.java 6bad57fc3cf967838a220d8402db37ed9a5b3b4e 65 3306 717 org.apache.cassandra.service\n",
      "StorageService.java 6bb6bb005197c33fa94026d472ff78d4f36613cc 65 3302 703 org.apache.cassandra.service\n",
      "StorageService.java 9a90e9894e9e079058876cf2b16a47d29ba0a32a 61 3344 718 org.apache.cassandra.service\n",
      "StorageService.java ecd66de2bdf2ecb88c4276a4616a76f5ec2921bb 6 3311 718 org.apache.cassandra.service\n",
      "StorageService.java a8e8a67306c0b26b8fe9c74a1fb00bacfa224cf7 3 3314 719 org.apache.cassandra.service\n",
      "StorageService.java 99b82dbb43277035562e7b82bb9bdebd84510e96 9 3311 705 org.apache.cassandra.service\n",
      "StorageService.java ae315b5ec944571342146867c51b2ceb50f3845e 9 3351 720 org.apache.cassandra.service\n",
      "StorageService.java 7650fc196341bd673626054593f2ce6e895d7783 32 3333 726 org.apache.cassandra.service\n",
      "StorageService.java 51753263a4c4d50c5bbe7bb80636cca5b6458ecf 14 3333 726 org.apache.cassandra.service\n",
      "StorageService.java 15f03ab446854cf4d2999c3785d145c89bc3a3e4 19 3319 710 org.apache.cassandra.service\n",
      "ColumnFamilyStore.java d867ac1f41c59b31f8fb4f54a06c0118018cfc81 15 2191 428 org.apache.cassandra.db\n",
      "ColumnFamilyStore.java 48b685e8521ea54d93c0d8d9e4ea80ecb1400dce 15 2198 430 org.apache.cassandra.db\n",
      "ColumnFamilyStore.java 1c3ff9242a0bfc5c544c69f68ee7b17a464a5ab3 31 2258 453 org.apache.cassandra.db\n",
      "ColumnFamilyStore.java 61e0251a1d4ddc695382aee11e443506afd40899 2 2230 438 org.apache.cassandra.db\n",
      "ColumnFamilyStore.java 15f03ab446854cf4d2999c3785d145c89bc3a3e4 4 2230 438 org.apache.cassandra.db\n",
      "ColumnFamilyStore.java acdbba7957be3567d6eeb756f098d81ca736d995 4 2260 453 org.apache.cassandra.db\n",
      "ColumnFamilyStore.java c8136b98f20f5bb93bae81444ac4ad9247d9042a 4 2232 438 org.apache.cassandra.db\n",
      "Gossiper.java 6bad57fc3cf967838a220d8402db37ed9a5b3b4e 47 1078 244 org.apache.cassandra.gms\n",
      "Gossiper.java 6bb6bb005197c33fa94026d472ff78d4f36613cc 47 1079 243 org.apache.cassandra.gms\n",
      "...\n"
     ]
    }
   ],
   "source": [
    "list_of_arquivos_modificados_3_1_0 = util_designite.extract_list_of_arquivos_modifiados(df_arquivos_modificados_v_3_1_0)\n",
    "\n",
    "print('Fragmento...')\n",
    "i = 1\n",
    "for each in list_of_arquivos_modificados_3_1_0:\n",
    "    if i < 20:\n",
    "        print(each[1], each[2], each[3], each[5], each[6], each[7])\n",
    "        i += 1\n",
    "print('...')"
   ]
  },
  {
   "cell_type": "markdown",
   "metadata": {},
   "source": [
    "# Procura pelos arquivos modificados que tem dependencia cíclica de pacotes"
   ]
  },
  {
   "cell_type": "code",
   "execution_count": 46,
   "metadata": {},
   "outputs": [
    {
     "data": {
      "text/plain": [
       "['org.apache.cassandra.metrics,org.apache.cassandra.utils',\n",
       " 'org.apache.cassandra.metrics,org.apache.cassandra.utils,org.apache.cassandra.db',\n",
       " 'org.apache.cassandra.tracing,org.apache.cassandra.concurrent',\n",
       " 'org.apache.cassandra.tracing,org.apache.cassandra.utils,org.apache.cassandra.concurrent',\n",
       " 'org.apache.cassandra.tracing,org.apache.cassandra.utils,org.apache.cassandra.concurrent,org.apache.cassandra.service',\n",
       " 'org.apache.cassandra.locator,org.apache.cassandra.db',\n",
       " 'org.apache.cassandra.locator,org.apache.cassandra.gms,org.apache.cassandra.db',\n",
       " 'org.apache.cassandra.locator,org.apache.cassandra.gms,org.apache.cassandra.net,org.apache.cassandra.service',\n",
       " 'org.apache.cassandra.locator,org.apache.cassandra.gms,org.apache.cassandra.net,org.apache.cassandra.dht,org.apache.cassandra.service',\n",
       " 'org.apache.cassandra.net,org.apache.cassandra.dht',\n",
       " 'org.apache.cassandra.net,org.apache.cassandra.dht,org.apache.cassandra.gms',\n",
       " 'org.apache.cassandra.net,org.apache.cassandra.dht,org.apache.cassandra.gms,org.apache.cassandra.db',\n",
       " 'org.apache.cassandra.transport,org.apache.cassandra.service',\n",
       " 'org.apache.cassandra.transport,org.apache.cassandra.service,org.apache.cassandra.schema',\n",
       " 'org.apache.cassandra.transport,org.apache.cassandra.service,org.apache.cassandra.utils,org.apache.cassandra.schema',\n",
       " 'org.apache.cassandra.transport.messages,org.apache.cassandra.transport',\n",
       " 'org.apache.cassandra.transport.messages,org.apache.cassandra.transport,org.apache.cassandra.auth',\n",
       " 'org.apache.cassandra.transport.messages,org.apache.cassandra.transport,org.apache.cassandra.service,org.apache.cassandra.utils,org.apache.cassandra.cql3',\n",
       " 'org.apache.cassandra.cql3,org.apache.cassandra.utils',\n",
       " 'org.apache.cassandra.cql3,org.apache.cassandra.utils,org.apache.cassandra.config',\n",
       " 'org.apache.cassandra.cql3.restrictions,org.apache.cassandra.cql3',\n",
       " 'org.apache.cassandra.cql3.restrictions,org.apache.cassandra.utils,org.apache.cassandra.cql3',\n",
       " 'org.apache.cassandra.cql3.restrictions,org.apache.cassandra.db.filter,org.apache.cassandra.db.marshal,org.apache.cassandra.cql3',\n",
       " 'org.apache.cassandra.cql3.restrictions,org.apache.cassandra.db.filter,org.apache.cassandra.db.rows,org.apache.cassandra.db.marshal,org.apache.cassandra.cql3',\n",
       " 'org.apache.cassandra.cql3.statements,org.apache.cassandra.transport.messages',\n",
       " 'org.apache.cassandra.cql3.statements,org.apache.cassandra.db,org.apache.cassandra.schema',\n",
       " 'org.apache.cassandra.cql3.statements,org.apache.cassandra.db,org.apache.cassandra.schema,org.apache.cassandra.config',\n",
       " 'org.apache.cassandra.cql3.statements,org.apache.cassandra.db,org.apache.cassandra.schema,org.apache.cassandra.config,org.apache.cassandra.db.view',\n",
       " 'org.apache.cassandra.cql3.functions,org.apache.cassandra.service',\n",
       " 'org.apache.cassandra.cql3.functions,org.apache.cassandra.utils,org.apache.cassandra.schema',\n",
       " 'org.apache.cassandra.cql3.functions,org.apache.cassandra.db.marshal,org.apache.cassandra.utils,org.apache.cassandra.schema',\n",
       " 'org.apache.cassandra.cql3.functions,org.apache.cassandra.db.marshal,org.apache.cassandra.utils,org.apache.cassandra.concurrent,org.apache.cassandra.service',\n",
       " 'org.apache.cassandra.cql3.selection,org.apache.cassandra.cql3',\n",
       " 'org.apache.cassandra.cql3.selection,org.apache.cassandra.cql3,org.apache.cassandra.cql3.statements',\n",
       " 'org.apache.cassandra.cql3.selection,org.apache.cassandra.cql3,org.apache.cassandra.utils,org.apache.cassandra.config,org.apache.cassandra.cql3.statements',\n",
       " 'org.apache.cassandra.cache,org.apache.cassandra.db.compaction',\n",
       " 'org.apache.cassandra.cache,org.apache.cassandra.service,org.apache.cassandra.db.compaction',\n",
       " 'org.apache.cassandra.cache,org.apache.cassandra.service,org.apache.cassandra.utils,org.apache.cassandra.db.compaction',\n",
       " 'org.apache.cassandra.cache,org.apache.cassandra.service,org.apache.cassandra.utils,org.apache.cassandra.config,org.apache.cassandra.db.compaction',\n",
       " 'org.apache.cassandra.config,org.apache.cassandra.cql3.statements',\n",
       " 'org.apache.cassandra.config,org.apache.cassandra.cql3.statements,org.apache.cassandra.db',\n",
       " 'org.apache.cassandra.config,org.apache.cassandra.cql3.statements,org.apache.cassandra.db,org.apache.cassandra.schema',\n",
       " 'org.apache.cassandra.security,org.apache.cassandra.io.util,org.apache.cassandra.utils,org.apache.cassandra.net',\n",
       " 'org.apache.cassandra.security,org.apache.cassandra.io.util,org.apache.cassandra.utils.memory,org.apache.cassandra.db.rows,org.apache.cassandra.net',\n",
       " 'org.apache.cassandra.auth,org.apache.cassandra.transport.messages',\n",
       " 'org.apache.cassandra.auth,org.apache.cassandra.config,org.apache.cassandra.cql3.statements',\n",
       " 'org.apache.cassandra.auth,org.apache.cassandra.config,org.apache.cassandra.cql3.statements,org.apache.cassandra.transport.messages',\n",
       " 'org.apache.cassandra.auth,org.apache.cassandra.config,org.apache.cassandra.cql3.statements,org.apache.cassandra.db,org.apache.cassandra.service',\n",
       " 'org.apache.cassandra.triggers,org.apache.cassandra.utils,org.apache.cassandra.service',\n",
       " 'org.apache.cassandra.triggers,org.apache.cassandra.utils,org.apache.cassandra.concurrent,org.apache.cassandra.service',\n",
       " 'org.apache.cassandra.triggers,org.apache.cassandra.utils,org.apache.cassandra.concurrent,org.apache.cassandra.tracing,org.apache.cassandra.service',\n",
       " 'org.apache.cassandra.dht,org.apache.cassandra.service',\n",
       " 'org.apache.cassandra.dht,org.apache.cassandra.gms,org.apache.cassandra.net',\n",
       " 'org.apache.cassandra.dht,org.apache.cassandra.gms,org.apache.cassandra.net,org.apache.cassandra.repair.messages',\n",
       " 'org.apache.cassandra.dht,org.apache.cassandra.gms,org.apache.cassandra.net,org.apache.cassandra.repair.messages,org.apache.cassandra.repair',\n",
       " 'org.apache.cassandra.io.compress,org.apache.cassandra.io.util',\n",
       " 'org.apache.cassandra.io.compress,org.apache.cassandra.utils,org.apache.cassandra.io.util',\n",
       " 'org.apache.cassandra.io.compress,org.apache.cassandra.utils,org.apache.cassandra.config,org.apache.cassandra.io.util',\n",
       " 'org.apache.cassandra.io.sstable,org.apache.cassandra.db',\n",
       " 'org.apache.cassandra.io.sstable,org.apache.cassandra.db,org.apache.cassandra.utils',\n",
       " 'org.apache.cassandra.io.sstable,org.apache.cassandra.db,org.apache.cassandra.schema,org.apache.cassandra.utils',\n",
       " 'org.apache.cassandra.io.sstable.format.big,org.apache.cassandra.io.sstable.format',\n",
       " 'org.apache.cassandra.io.sstable.format.big,org.apache.cassandra.io.sstable.format,org.apache.cassandra.io.sstable',\n",
       " 'org.apache.cassandra.io.sstable.format.big,org.apache.cassandra.io.sstable.format,org.apache.cassandra.config,org.apache.cassandra.db',\n",
       " 'org.apache.cassandra.io.sstable.format.big,org.apache.cassandra.io.sstable.format,org.apache.cassandra.config,org.apache.cassandra.cql3.statements,org.apache.cassandra.db',\n",
       " 'org.apache.cassandra.io.sstable.format,org.apache.cassandra.config',\n",
       " 'org.apache.cassandra.io.sstable.format,org.apache.cassandra.config,org.apache.cassandra.db',\n",
       " 'org.apache.cassandra.io.sstable.format,org.apache.cassandra.config,org.apache.cassandra.cql3.statements,org.apache.cassandra.db',\n",
       " 'org.apache.cassandra.io.sstable.metadata,org.apache.cassandra.utils,org.apache.cassandra.metrics',\n",
       " 'org.apache.cassandra.io.sstable.metadata,org.apache.cassandra.utils,org.apache.cassandra.db,org.apache.cassandra.metrics',\n",
       " 'org.apache.cassandra.io.util,org.apache.cassandra.utils.memory',\n",
       " 'org.apache.cassandra.io.util,org.apache.cassandra.utils.memory,org.apache.cassandra.db.rows',\n",
       " 'org.apache.cassandra.io.util,org.apache.cassandra.utils.memory,org.apache.cassandra.utils.concurrent,org.apache.cassandra.utils',\n",
       " 'org.apache.cassandra.io.util,org.apache.cassandra.utils.memory,org.apache.cassandra.utils.concurrent,org.apache.cassandra.utils,org.apache.cassandra.config',\n",
       " 'org.apache.cassandra.utils,org.apache.cassandra.concurrent',\n",
       " 'org.apache.cassandra.utils,org.apache.cassandra.concurrent,org.apache.cassandra.tracing',\n",
       " 'org.apache.cassandra.utils.memory,org.apache.cassandra.io.util',\n",
       " 'org.apache.cassandra.utils.memory,org.apache.cassandra.utils.concurrent,org.apache.cassandra.db',\n",
       " 'org.apache.cassandra.utils.memory,org.apache.cassandra.utils.concurrent,org.apache.cassandra.utils,org.apache.cassandra.db',\n",
       " 'org.apache.cassandra.utils.memory,org.apache.cassandra.utils.concurrent,org.apache.cassandra.utils,org.apache.cassandra.config,org.apache.cassandra.db',\n",
       " 'org.apache.cassandra.utils.obs,org.apache.cassandra.utils.concurrent,org.apache.cassandra.utils',\n",
       " 'org.apache.cassandra.utils.obs,org.apache.cassandra.utils.concurrent,org.apache.cassandra.db,org.apache.cassandra.utils',\n",
       " 'org.apache.cassandra.utils.btree,org.apache.cassandra.utils,org.apache.cassandra.db',\n",
       " 'org.apache.cassandra.utils.btree,org.apache.cassandra.utils,org.apache.cassandra.config,org.apache.cassandra.db',\n",
       " 'org.apache.cassandra.utils.concurrent,org.apache.cassandra.utils',\n",
       " 'org.apache.cassandra.utils.concurrent,org.apache.cassandra.utils,org.apache.cassandra.concurrent',\n",
       " 'org.apache.cassandra.exceptions,org.apache.cassandra.db.marshal,org.apache.cassandra.utils,org.apache.cassandra.schema,org.apache.cassandra.cql3.functions',\n",
       " 'org.apache.cassandra.batchlog,org.apache.cassandra.db',\n",
       " 'org.apache.cassandra.batchlog,org.apache.cassandra.utils,org.apache.cassandra.db',\n",
       " 'org.apache.cassandra.batchlog,org.apache.cassandra.utils,org.apache.cassandra.concurrent,org.apache.cassandra.service',\n",
       " 'org.apache.cassandra.batchlog,org.apache.cassandra.utils,org.apache.cassandra.concurrent,org.apache.cassandra.tracing,org.apache.cassandra.service',\n",
       " 'org.apache.cassandra.streaming.compress,org.apache.cassandra.streaming,org.apache.cassandra.streaming.messages',\n",
       " 'org.apache.cassandra.streaming.compress,org.apache.cassandra.config,org.apache.cassandra.net,org.apache.cassandra.streaming.messages',\n",
       " 'org.apache.cassandra.streaming.compress,org.apache.cassandra.io.compress,org.apache.cassandra.utils,org.apache.cassandra.net,org.apache.cassandra.streaming.messages',\n",
       " 'org.apache.cassandra.streaming,org.apache.cassandra.net',\n",
       " 'org.apache.cassandra.streaming,org.apache.cassandra.net,org.apache.cassandra.dht',\n",
       " 'org.apache.cassandra.streaming,org.apache.cassandra.net,org.apache.cassandra.dht,org.apache.cassandra.service',\n",
       " 'org.apache.cassandra.streaming.messages,org.apache.cassandra.net',\n",
       " 'org.apache.cassandra.streaming.messages,org.apache.cassandra.utils,org.apache.cassandra.net',\n",
       " 'org.apache.cassandra.streaming.messages,org.apache.cassandra.utils,org.apache.cassandra.concurrent,org.apache.cassandra.net',\n",
       " 'org.apache.cassandra.streaming.messages,org.apache.cassandra.utils,org.apache.cassandra.concurrent,org.apache.cassandra.tracing,org.apache.cassandra.net',\n",
       " 'org.apache.cassandra.streaming.management,org.apache.cassandra.streaming',\n",
       " 'org.apache.cassandra.thrift,org.apache.cassandra.db',\n",
       " 'org.apache.cassandra.thrift,org.apache.cassandra.db,org.apache.cassandra.service',\n",
       " 'org.apache.cassandra.thrift,org.apache.cassandra.db,org.apache.cassandra.schema,org.apache.cassandra.config',\n",
       " 'org.apache.cassandra.thrift,org.apache.cassandra.db,org.apache.cassandra.schema,org.apache.cassandra.config,org.apache.cassandra.cql3.statements',\n",
       " 'org.apache.cassandra.gms,org.apache.cassandra.net',\n",
       " 'org.apache.cassandra.gms,org.apache.cassandra.net,org.apache.cassandra.dht',\n",
       " 'org.apache.cassandra.gms,org.apache.cassandra.net,org.apache.cassandra.dht,org.apache.cassandra.service',\n",
       " 'org.apache.cassandra.gms,org.apache.cassandra.net,org.apache.cassandra.dht,org.apache.cassandra.service,org.apache.cassandra.utils',\n",
       " 'org.apache.cassandra.schema,org.apache.cassandra.cql3.statements',\n",
       " 'org.apache.cassandra.schema,org.apache.cassandra.config,org.apache.cassandra.cql3.statements',\n",
       " 'org.apache.cassandra.schema,org.apache.cassandra.config,org.apache.cassandra.cql3.statements,org.apache.cassandra.db',\n",
       " 'org.apache.cassandra.schema,org.apache.cassandra.config,org.apache.cassandra.cql3.statements,org.apache.cassandra.db,org.apache.cassandra.index',\n",
       " 'org.apache.cassandra.serializers,org.apache.cassandra.transport,org.apache.cassandra.db.marshal',\n",
       " 'org.apache.cassandra.serializers,org.apache.cassandra.transport,org.apache.cassandra.service,org.apache.cassandra.cql3',\n",
       " 'org.apache.cassandra.serializers,org.apache.cassandra.transport,org.apache.cassandra.service,org.apache.cassandra.utils,org.apache.cassandra.cql3',\n",
       " 'org.apache.cassandra.concurrent,org.apache.cassandra.tracing',\n",
       " 'org.apache.cassandra.concurrent,org.apache.cassandra.tracing,org.apache.cassandra.utils',\n",
       " 'org.apache.cassandra.concurrent,org.apache.cassandra.tracing,org.apache.cassandra.utils,org.apache.cassandra.db',\n",
       " 'org.apache.cassandra.concurrent,org.apache.cassandra.tracing,org.apache.cassandra.utils,org.apache.cassandra.config,org.apache.cassandra.db.view',\n",
       " 'org.apache.cassandra.db,org.apache.cassandra.schema',\n",
       " 'org.apache.cassandra.db,org.apache.cassandra.schema,org.apache.cassandra.config',\n",
       " 'org.apache.cassandra.db,org.apache.cassandra.schema,org.apache.cassandra.config,org.apache.cassandra.cql3.statements',\n",
       " 'org.apache.cassandra.db,org.apache.cassandra.schema,org.apache.cassandra.config,org.apache.cassandra.cql3.statements,org.apache.cassandra.db.marshal',\n",
       " 'org.apache.cassandra.db.marshal,org.apache.cassandra.cql3',\n",
       " 'org.apache.cassandra.db.marshal,org.apache.cassandra.utils,org.apache.cassandra.db',\n",
       " 'org.apache.cassandra.db.marshal,org.apache.cassandra.utils,org.apache.cassandra.concurrent,org.apache.cassandra.tracing',\n",
       " 'org.apache.cassandra.db.context,org.apache.cassandra.db',\n",
       " 'org.apache.cassandra.db.context,org.apache.cassandra.db.compaction,org.apache.cassandra.service',\n",
       " 'org.apache.cassandra.db.context,org.apache.cassandra.db.compaction,org.apache.cassandra.metrics,org.apache.cassandra.db',\n",
       " 'org.apache.cassandra.db.context,org.apache.cassandra.db.compaction,org.apache.cassandra.metrics,org.apache.cassandra.utils,org.apache.cassandra.db',\n",
       " 'org.apache.cassandra.db.lifecycle,org.apache.cassandra.db',\n",
       " 'org.apache.cassandra.db.lifecycle,org.apache.cassandra.io.sstable.format.big,org.apache.cassandra.db',\n",
       " 'org.apache.cassandra.db.lifecycle,org.apache.cassandra.io.sstable.format.big,org.apache.cassandra.io.sstable.format,org.apache.cassandra.io.sstable',\n",
       " 'org.apache.cassandra.db.lifecycle,org.apache.cassandra.io.sstable.format.big,org.apache.cassandra.io.sstable.format,org.apache.cassandra.config,org.apache.cassandra.db.view',\n",
       " 'org.apache.cassandra.db.compaction,org.apache.cassandra.metrics',\n",
       " 'org.apache.cassandra.db.compaction,org.apache.cassandra.metrics,org.apache.cassandra.utils',\n",
       " 'org.apache.cassandra.db.compaction,org.apache.cassandra.metrics,org.apache.cassandra.utils,org.apache.cassandra.config',\n",
       " 'org.apache.cassandra.db.rows,org.apache.cassandra.db.marshal',\n",
       " 'org.apache.cassandra.db.rows,org.apache.cassandra.db.marshal,org.apache.cassandra.db',\n",
       " 'org.apache.cassandra.db.rows,org.apache.cassandra.db.marshal,org.apache.cassandra.utils,org.apache.cassandra.db',\n",
       " 'org.apache.cassandra.db.rows,org.apache.cassandra.db.marshal,org.apache.cassandra.utils,org.apache.cassandra.config,org.apache.cassandra.db',\n",
       " 'org.apache.cassandra.db.partitions,org.apache.cassandra.db',\n",
       " 'org.apache.cassandra.db.partitions,org.apache.cassandra.db,org.apache.cassandra.service',\n",
       " 'org.apache.cassandra.db.partitions,org.apache.cassandra.db,org.apache.cassandra.schema,org.apache.cassandra.db.compaction',\n",
       " 'org.apache.cassandra.db.partitions,org.apache.cassandra.db,org.apache.cassandra.schema,org.apache.cassandra.config,org.apache.cassandra.db.view',\n",
       " 'org.apache.cassandra.db.commitlog,org.apache.cassandra.config',\n",
       " 'org.apache.cassandra.db.commitlog,org.apache.cassandra.config,org.apache.cassandra.db',\n",
       " 'org.apache.cassandra.db.commitlog,org.apache.cassandra.config,org.apache.cassandra.cql3.statements,org.apache.cassandra.db',\n",
       " 'org.apache.cassandra.db.commitlog,org.apache.cassandra.config,org.apache.cassandra.cql3.statements,org.apache.cassandra.db,org.apache.cassandra.service',\n",
       " 'org.apache.cassandra.db.view,org.apache.cassandra.db',\n",
       " 'org.apache.cassandra.db.view,org.apache.cassandra.db,org.apache.cassandra.schema',\n",
       " 'org.apache.cassandra.db.view,org.apache.cassandra.db,org.apache.cassandra.schema,org.apache.cassandra.config',\n",
       " 'org.apache.cassandra.db.view,org.apache.cassandra.db,org.apache.cassandra.schema,org.apache.cassandra.config,org.apache.cassandra.cql3.statements',\n",
       " 'org.apache.cassandra.db.filter,org.apache.cassandra.db.rows',\n",
       " 'org.apache.cassandra.db.filter,org.apache.cassandra.db.rows,org.apache.cassandra.db',\n",
       " 'org.apache.cassandra.db.filter,org.apache.cassandra.db.rows,org.apache.cassandra.db.marshal,org.apache.cassandra.cql3',\n",
       " 'org.apache.cassandra.db.filter,org.apache.cassandra.db.rows,org.apache.cassandra.db.marshal,org.apache.cassandra.utils,org.apache.cassandra.db',\n",
       " 'org.apache.cassandra.db.transform,org.apache.cassandra.db',\n",
       " 'org.apache.cassandra.db.transform,org.apache.cassandra.utils,org.apache.cassandra.db',\n",
       " 'org.apache.cassandra.db.transform,org.apache.cassandra.utils,org.apache.cassandra.concurrent,org.apache.cassandra.service',\n",
       " 'org.apache.cassandra.db.transform,org.apache.cassandra.utils,org.apache.cassandra.concurrent,org.apache.cassandra.tracing,org.apache.cassandra.service',\n",
       " 'org.apache.cassandra.index,org.apache.cassandra.db',\n",
       " 'org.apache.cassandra.index,org.apache.cassandra.db.compaction,org.apache.cassandra.db',\n",
       " 'org.apache.cassandra.index,org.apache.cassandra.db.compaction,org.apache.cassandra.metrics,org.apache.cassandra.db',\n",
       " 'org.apache.cassandra.index,org.apache.cassandra.db.compaction,org.apache.cassandra.metrics,org.apache.cassandra.utils,org.apache.cassandra.db',\n",
       " 'org.apache.cassandra.index.internal,org.apache.cassandra.io.sstable.format',\n",
       " 'org.apache.cassandra.index.internal,org.apache.cassandra.io.sstable.format,org.apache.cassandra.db',\n",
       " 'org.apache.cassandra.index.internal,org.apache.cassandra.io.sstable.format,org.apache.cassandra.config,org.apache.cassandra.db',\n",
       " 'org.apache.cassandra.index.internal,org.apache.cassandra.io.sstable.format,org.apache.cassandra.config,org.apache.cassandra.cql3.statements,org.apache.cassandra.db',\n",
       " 'org.apache.cassandra.service,org.apache.cassandra.utils',\n",
       " 'org.apache.cassandra.service,org.apache.cassandra.utils,org.apache.cassandra.concurrent',\n",
       " 'org.apache.cassandra.service,org.apache.cassandra.utils,org.apache.cassandra.concurrent,org.apache.cassandra.tracing',\n",
       " 'org.apache.cassandra.service.paxos,org.apache.cassandra.net',\n",
       " 'org.apache.cassandra.service.paxos,org.apache.cassandra.net,org.apache.cassandra.service',\n",
       " 'org.apache.cassandra.service.paxos,org.apache.cassandra.net,org.apache.cassandra.dht,org.apache.cassandra.service',\n",
       " 'org.apache.cassandra.service.pager,org.apache.cassandra.db',\n",
       " 'org.apache.cassandra.service.pager,org.apache.cassandra.db,org.apache.cassandra.cql3',\n",
       " 'org.apache.cassandra.repair,org.apache.cassandra.service',\n",
       " 'org.apache.cassandra.repair,org.apache.cassandra.tracing,org.apache.cassandra.service',\n",
       " 'org.apache.cassandra.repair,org.apache.cassandra.tracing,org.apache.cassandra.utils,org.apache.cassandra.service',\n",
       " 'org.apache.cassandra.repair,org.apache.cassandra.tracing,org.apache.cassandra.utils,org.apache.cassandra.concurrent,org.apache.cassandra.service',\n",
       " 'org.apache.cassandra.repair.messages,org.apache.cassandra.net',\n",
       " 'org.apache.cassandra.repair.messages,org.apache.cassandra.repair,org.apache.cassandra.service',\n",
       " 'org.apache.cassandra.repair.messages,org.apache.cassandra.repair,org.apache.cassandra.tracing,org.apache.cassandra.service',\n",
       " 'org.apache.cassandra.repair.messages,org.apache.cassandra.repair,org.apache.cassandra.tracing,org.apache.cassandra.utils,org.apache.cassandra.net',\n",
       " 'org.apache.cassandra.hints,org.apache.cassandra.service',\n",
       " 'org.apache.cassandra.hints,org.apache.cassandra.service,org.apache.cassandra.db',\n",
       " 'org.apache.cassandra.hints,org.apache.cassandra.service,org.apache.cassandra.utils,org.apache.cassandra.db']"
      ]
     },
     "execution_count": 46,
     "metadata": {},
     "output_type": "execute_result"
    }
   ],
   "source": [
    "lista_pacotes_com_dependencia_ciclica = []\n",
    "i = 1\n",
    "for each in list_cyclic_dependency_v_3_1_0:\n",
    "    elemento = each[2]\n",
    "    elemento = elemento.replace(' ', '')\n",
    "    elemento = elemento.replace(';', ',')\n",
    "    lista_pacotes_com_dependencia_ciclica.append(elemento)\n",
    "    i += 1\n",
    "\n",
    "lista_pacotes_com_dependencia_ciclica"
   ]
  },
  {
   "cell_type": "markdown",
   "metadata": {},
   "source": [
    "# Procura os arquivos modificados que possuem Feature Concentration"
   ]
  },
  {
   "cell_type": "code",
   "execution_count": 47,
   "metadata": {},
   "outputs": [
    {
     "name": "stdout",
     "output_type": "stream",
     "text": [
      "[('org.apache.cassandra.streaming.messages', 'IncomingFileMessage.java'), ('org.apache.cassandra.hadoop.cql3', 'CqlRecordWriter.java'), ('org.apache.cassandra.io.util', 'DataOutputBufferFixed.java'), ('org.apache.cassandra.metrics', 'ThreadPoolMetrics.java'), ('org.apache.cassandra.tools', 'NodeTool.java'), ('org.apache.cassandra.cql3', 'QueryProcessor.java'), ('org.apache.cassandra.transport.messages', 'Schema.java'), ('org.apache.cassandra.cql3', 'Json.java'), ('org.apache.cassandra.io.util', 'RandomAccessReader.java'), ('org.apache.cassandra.cql3.statements', 'DropTypeStatement.java'), ('org.apache.cassandra.tools.nodetool', 'FailureDetector.java'), ('org.apache.cassandra.metrics', 'EstimatedHistogram.java'), ('org.apache.cassandra.metrics', 'CASClientRequestMetrics.java'), ('org.apache.cassandra.io.compress', 'CompressionMetadata.java'), ('org.apache.cassandra.db', 'SystemKeyspace.java'), ('org.apache.cassandra.service', 'ActiveRepairService.java'), ('org.apache.cassandra.locator', 'PropertyFileSnitch.java'), ('org.apache.cassandra.streaming.messages', 'FileMessageHeader.java'), ('org.apache.cassandra.gms', 'EndpointState.java'), ('org.apache.cassandra.db', 'Schema.java'), ('org.apache.cassandra.streaming', 'StreamReader.java'), ('org.apache.cassandra.service', 'StorageService.java'), ('org.apache.cassandra.metrics', 'KeyspaceMetrics.java'), ('org.apache.cassandra.utils', 'CLibrary.java'), ('org.apache.cassandra.service', 'MigrationManager.java'), ('org.apache.cassandra.tools.nodetool', 'Schema.java'), ('org.apache.cassandra.utils', 'StatusLogger.java'), ('org.apache.cassandra.cql3', 'QueryOptions.java'), ('org.apache.cassandra.dht', 'FailureDetector.java'), ('org.apache.cassandra.tools', 'ColumnFamilyStore.java'), ('org.apache.cassandra.net', 'MessagingService.java'), ('org.apache.cassandra.config', 'Schema.java'), ('org.apache.cassandra.db.compaction', 'CompactionController.java'), ('org.apache.cassandra.utils', 'EstimatedHistogram.java'), ('org.apache.cassandra.streaming.compress', 'StreamReader.java'), ('org.apache.cassandra.tools', 'NodeProbe.java'), ('org.apache.cassandra.cql3.statements', 'AlterTableStatement.java'), ('org.apache.cassandra.service', 'StartupChecks.java'), ('org.apache.cassandra.streaming.messages', 'OutgoingFileMessage.java'), ('org.apache.cassandra.io.compress', 'RandomAccessReader.java'), ('org.apache.cassandra.db.compaction', 'CompactionManager.java'), ('org.apache.cassandra.schema', 'Schema.java'), ('org.apache.cassandra.io.util', 'BufferedDataOutputStreamPlus.java'), ('org.apache.cassandra.transport', 'Schema.java'), ('org.apache.cassandra.cql3.statements', 'Schema.java'), ('org.apache.cassandra.service', 'StorageServiceMBean.java'), ('org.apache.cassandra.cql3.statements', 'Json.java'), ('org.apache.cassandra.metrics', 'CassandraMetricsRegistry.java'), ('org.apache.cassandra.gms', 'Gossiper.java'), ('org.apache.cassandra.dht', 'Bounds.java'), ('org.apache.cassandra.metrics', 'EstimatedHistogramReservoir.java'), ('org.apache.cassandra.db.marshal', 'SimpleDateType.java'), ('org.apache.cassandra.streaming', 'StreamReceiveTask.java'), ('org.apache.cassandra.service', 'StorageProxy.java'), ('org.apache.cassandra.io.sstable', 'CQLSSTableWriter.java'), ('org.apache.cassandra.repair.messages', 'RepairOption.java'), ('org.apache.cassandra.gms', 'FailureDetector.java'), ('org.apache.cassandra.db.lifecycle', 'LogFile.java'), ('org.apache.cassandra.db', 'ColumnFamilyStore.java'), ('org.apache.cassandra.io.sstable', 'SSTableRewriter.java'), ('org.apache.cassandra.db.lifecycle', 'LogTransaction.java'), ('org.apache.cassandra.cql3.functions', 'Json.java'), ('org.apache.cassandra.service', 'CassandraDaemon.java'), ('org.apache.cassandra.index', 'SecondaryIndexManager.java'), ('org.apache.cassandra.db', 'HintedHandOffManager.java'), ('org.apache.cassandra.io.util', 'DataOutputBuffer.java'), ('org.apache.cassandra.streaming.compress', 'CompressedStreamReader.java'), ('org.apache.cassandra.gms', 'VersionedValue.java'), ('org.apache.cassandra.io.util', 'SafeMemoryWriter.java'), ('org.apache.cassandra.tools.nodetool', 'TpStats.java')]\n"
     ]
    }
   ],
   "source": [
    "lista_arquivos_modificados_com_feature_concentration = []\n",
    "\n",
    "for each_am in list_of_arquivos_modificados_3_1_0:\n",
    "    elemento_am = each_am[1]\n",
    "    elemento_am = elemento_am.replace('.java', '')    \n",
    "    for each_fc in list_feature_concentration_v_3_1_0:\n",
    "        pacote_fc = each_fc[0]\n",
    "        elemento_fc = each_fc[2]\n",
    "        if elemento_am in elemento_fc:\n",
    "            conteudo = (pacote_fc, each_am[1])\n",
    "            lista_arquivos_modificados_com_feature_concentration.append(conteudo)\n",
    "\n",
    "print(list(set(lista_arquivos_modificados_com_feature_concentration) ) )"
   ]
  }
 ],
 "metadata": {
  "interpreter": {
   "hash": "58bc13ec4dd135858b8220102d0ad3358f57eb64d131366ec25c4d4365eacf63"
  },
  "kernelspec": {
   "display_name": "Python 3.6.3 64-bit",
   "name": "python3"
  },
  "language_info": {
   "codemirror_mode": {
    "name": "ipython",
    "version": 3
   },
   "file_extension": ".py",
   "mimetype": "text/x-python",
   "name": "python",
   "nbconvert_exporter": "python",
   "pygments_lexer": "ipython3",
   "version": "3.6.3"
  },
  "orig_nbformat": 4
 },
 "nbformat": 4,
 "nbformat_minor": 2
}
